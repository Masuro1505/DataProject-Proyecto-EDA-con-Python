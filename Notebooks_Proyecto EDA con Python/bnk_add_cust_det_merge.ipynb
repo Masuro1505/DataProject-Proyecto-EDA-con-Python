{
 "cells": [
  {
   "cell_type": "markdown",
   "id": "3195b3e0",
   "metadata": {},
   "source": [
    "# Análisis final (bnk_add_cust_det_merge)"
   ]
  },
  {
   "cell_type": "markdown",
   "id": "e6907a7b",
   "metadata": {},
   "source": [
    "### Importamos la librerías que vamos a necesitar"
   ]
  },
  {
   "cell_type": "code",
   "execution_count": 1,
   "id": "7d3fcf43",
   "metadata": {},
   "outputs": [
    {
     "data": {
      "text/plain": [
       "'Spanish_Spain.1252'"
      ]
     },
     "execution_count": 1,
     "metadata": {},
     "output_type": "execute_result"
    }
   ],
   "source": [
    "import numpy as np\n",
    "import pandas as pd\n",
    "\n",
    "import matplotlib.pyplot as plt\n",
    "import seaborn as sns\n",
    "\n",
    "import locale\n",
    "locale.setlocale(locale.LC_TIME, \"Spanish_Spain\") # he necesitado buscar como hacer que python me reconozca algunas palabras (en este caso los meses de la columna 'date') en español, para poder trabajar con esos datos"
   ]
  },
  {
   "cell_type": "markdown",
   "id": "a788bc1e",
   "metadata": {},
   "source": [
    "### Añadimos algunos settings para mejorar la visualización de los datos"
   ]
  },
  {
   "cell_type": "code",
   "execution_count": 2,
   "id": "ca7d7b06",
   "metadata": {},
   "outputs": [],
   "source": [
    "pd.set_option('display.max_columns', None) # nos enseña todas las columnas\n",
    "sns.set(style=\"whitegrid\") # ayuda a la hora de insertar gráficos"
   ]
  },
  {
   "cell_type": "markdown",
   "id": "76249832",
   "metadata": {},
   "source": [
    "### Importamos nuestros archivos csv y realizamos una copia para poder recuperar datos más adelante si fuera necesario"
   ]
  },
  {
   "cell_type": "code",
   "execution_count": 4,
   "id": "3253564a",
   "metadata": {},
   "outputs": [],
   "source": [
    "bnk_add = pd.read_csv(\"bnk_add_clean.csv\")\n",
    "bnk_add_copy = bnk_add.copy()\n",
    "\n",
    "cust_det = pd.read_csv(\"cust_det_clean.csv\")\n",
    "cust_det_copy = cust_det.copy()"
   ]
  },
  {
   "cell_type": "markdown",
   "id": "9cf44869",
   "metadata": {},
   "source": [
    "### Verificamos que las claves para el merge sean comunes en ambos DataFrames"
   ]
  },
  {
   "cell_type": "code",
   "execution_count": null,
   "id": "a764a08a",
   "metadata": {},
   "outputs": [],
   "source": [
    "cust_det = cust_det.rename(columns={\"ID\": \"id_\"}) # usaremos el campo id para identificar a cada cliente al juntar las dos tablas"
   ]
  },
  {
   "cell_type": "markdown",
   "id": "bb67f5be",
   "metadata": {},
   "source": [
    "### Creación de un único DataFrame formado por los datos de los dos archivos csv a través de un merge"
   ]
  },
  {
   "cell_type": "code",
   "execution_count": 7,
   "id": "e9bc50c2",
   "metadata": {},
   "outputs": [],
   "source": [
    "bnk_add_cust_det_merge = pd.merge(bnk_add, cust_det, on=\"id_\", how=\"inner\")"
   ]
  },
  {
   "cell_type": "markdown",
   "id": "283fae8c",
   "metadata": {},
   "source": [
    "Para este análisis me voy a quedar con los clientes de los que tenemos información (datos) demográfica (clientes con datos en ambos archivos)"
   ]
  },
  {
   "cell_type": "markdown",
   "id": "d0104a5a",
   "metadata": {},
   "source": [
    "### Resumen de la forma, tipos de datos y muestra del nuevo DataFrame"
   ]
  },
  {
   "cell_type": "code",
   "execution_count": 105,
   "id": "f3dc6ee8",
   "metadata": {},
   "outputs": [
    {
     "name": "stdout",
     "output_type": "stream",
     "text": [
      "Nº de filas y de columnas:  (43000, 34)\n",
      "\n",
      "Tipos de datos: \n",
      "age                           float64\n",
      "job                            object\n",
      "marital                        object\n",
      "education                      object\n",
      "default                       float64\n",
      "housing                       float64\n",
      "loan                          float64\n",
      "contact                        object\n",
      "duration                        int64\n",
      "campaign                        int64\n",
      "pdays                           int64\n",
      "previous                        int64\n",
      "poutcome                       object\n",
      "emp.var.rate                  float64\n",
      "cons.price.idx                float64\n",
      "cons.conf.idx                 float64\n",
      "euribor3m                     float64\n",
      "nr.employed                   float64\n",
      "y                              object\n",
      "latitude                      float64\n",
      "longitude                     float64\n",
      "id_                            object\n",
      "ratio_campaign_prev           float64\n",
      "duration_warning                int64\n",
      "credit_warning                float64\n",
      "Income                          int64\n",
      "Kidhome                         int64\n",
      "Teenhome                        int64\n",
      "Dt_Customer            datetime64[ns]\n",
      "NumWebVisitsMonth               int64\n",
      "Año                             int64\n",
      "TotalKids                       int64\n",
      "recent_customer                 int64\n",
      "TotalHijos                      int64\n",
      "dtype: object\n",
      "\n",
      "Muestra de las primeras 5 filas:\n"
     ]
    },
    {
     "data": {
      "text/html": [
       "<div>\n",
       "<style scoped>\n",
       "    .dataframe tbody tr th:only-of-type {\n",
       "        vertical-align: middle;\n",
       "    }\n",
       "\n",
       "    .dataframe tbody tr th {\n",
       "        vertical-align: top;\n",
       "    }\n",
       "\n",
       "    .dataframe thead th {\n",
       "        text-align: right;\n",
       "    }\n",
       "</style>\n",
       "<table border=\"1\" class=\"dataframe\">\n",
       "  <thead>\n",
       "    <tr style=\"text-align: right;\">\n",
       "      <th></th>\n",
       "      <th>age</th>\n",
       "      <th>job</th>\n",
       "      <th>marital</th>\n",
       "      <th>education</th>\n",
       "      <th>default</th>\n",
       "      <th>housing</th>\n",
       "      <th>loan</th>\n",
       "      <th>contact</th>\n",
       "      <th>duration</th>\n",
       "      <th>campaign</th>\n",
       "      <th>pdays</th>\n",
       "      <th>previous</th>\n",
       "      <th>poutcome</th>\n",
       "      <th>emp.var.rate</th>\n",
       "      <th>cons.price.idx</th>\n",
       "      <th>cons.conf.idx</th>\n",
       "      <th>euribor3m</th>\n",
       "      <th>nr.employed</th>\n",
       "      <th>y</th>\n",
       "      <th>latitude</th>\n",
       "      <th>longitude</th>\n",
       "      <th>id_</th>\n",
       "      <th>ratio_campaign_prev</th>\n",
       "      <th>duration_warning</th>\n",
       "      <th>credit_warning</th>\n",
       "      <th>Income</th>\n",
       "      <th>Kidhome</th>\n",
       "      <th>Teenhome</th>\n",
       "      <th>Dt_Customer</th>\n",
       "      <th>NumWebVisitsMonth</th>\n",
       "      <th>Año</th>\n",
       "      <th>TotalKids</th>\n",
       "      <th>recent_customer</th>\n",
       "      <th>TotalHijos</th>\n",
       "    </tr>\n",
       "  </thead>\n",
       "  <tbody>\n",
       "    <tr>\n",
       "      <th>0</th>\n",
       "      <td>38.0</td>\n",
       "      <td>housemaid</td>\n",
       "      <td>MARRIED</td>\n",
       "      <td>basic.4y</td>\n",
       "      <td>0.0</td>\n",
       "      <td>0.0</td>\n",
       "      <td>0.0</td>\n",
       "      <td>telephone</td>\n",
       "      <td>261</td>\n",
       "      <td>1</td>\n",
       "      <td>999</td>\n",
       "      <td>0</td>\n",
       "      <td>NONEXISTENT</td>\n",
       "      <td>1.1</td>\n",
       "      <td>93.994</td>\n",
       "      <td>-36.4</td>\n",
       "      <td>4.857</td>\n",
       "      <td>5191.0</td>\n",
       "      <td>no</td>\n",
       "      <td>41.495</td>\n",
       "      <td>-71.233</td>\n",
       "      <td>089b39d8-e4d0-461b-87d4-814d71e0e079</td>\n",
       "      <td>1.0</td>\n",
       "      <td>0</td>\n",
       "      <td>0.0</td>\n",
       "      <td>161770</td>\n",
       "      <td>1</td>\n",
       "      <td>0</td>\n",
       "      <td>2012-04-04</td>\n",
       "      <td>29</td>\n",
       "      <td>2012</td>\n",
       "      <td>1</td>\n",
       "      <td>0</td>\n",
       "      <td>1</td>\n",
       "    </tr>\n",
       "    <tr>\n",
       "      <th>1</th>\n",
       "      <td>57.0</td>\n",
       "      <td>services</td>\n",
       "      <td>MARRIED</td>\n",
       "      <td>high.school</td>\n",
       "      <td>0.0</td>\n",
       "      <td>0.0</td>\n",
       "      <td>0.0</td>\n",
       "      <td>telephone</td>\n",
       "      <td>149</td>\n",
       "      <td>1</td>\n",
       "      <td>999</td>\n",
       "      <td>0</td>\n",
       "      <td>NONEXISTENT</td>\n",
       "      <td>1.1</td>\n",
       "      <td>93.994</td>\n",
       "      <td>-36.4</td>\n",
       "      <td>4.857</td>\n",
       "      <td>5191.0</td>\n",
       "      <td>no</td>\n",
       "      <td>34.601</td>\n",
       "      <td>-83.923</td>\n",
       "      <td>e9d37224-cb6f-4942-98d7-46672963d097</td>\n",
       "      <td>1.0</td>\n",
       "      <td>0</td>\n",
       "      <td>0.0</td>\n",
       "      <td>85477</td>\n",
       "      <td>1</td>\n",
       "      <td>1</td>\n",
       "      <td>2012-12-30</td>\n",
       "      <td>7</td>\n",
       "      <td>2012</td>\n",
       "      <td>2</td>\n",
       "      <td>0</td>\n",
       "      <td>2</td>\n",
       "    </tr>\n",
       "    <tr>\n",
       "      <th>2</th>\n",
       "      <td>37.0</td>\n",
       "      <td>services</td>\n",
       "      <td>MARRIED</td>\n",
       "      <td>high.school</td>\n",
       "      <td>0.0</td>\n",
       "      <td>1.0</td>\n",
       "      <td>0.0</td>\n",
       "      <td>telephone</td>\n",
       "      <td>226</td>\n",
       "      <td>1</td>\n",
       "      <td>999</td>\n",
       "      <td>0</td>\n",
       "      <td>NONEXISTENT</td>\n",
       "      <td>1.1</td>\n",
       "      <td>93.994</td>\n",
       "      <td>-36.4</td>\n",
       "      <td>4.857</td>\n",
       "      <td>5191.0</td>\n",
       "      <td>no</td>\n",
       "      <td>34.939</td>\n",
       "      <td>-94.847</td>\n",
       "      <td>3f9f49b5-e410-4948-bf6e-f9244f04918b</td>\n",
       "      <td>1.0</td>\n",
       "      <td>0</td>\n",
       "      <td>1.0</td>\n",
       "      <td>147233</td>\n",
       "      <td>1</td>\n",
       "      <td>1</td>\n",
       "      <td>2012-02-02</td>\n",
       "      <td>5</td>\n",
       "      <td>2012</td>\n",
       "      <td>2</td>\n",
       "      <td>0</td>\n",
       "      <td>2</td>\n",
       "    </tr>\n",
       "    <tr>\n",
       "      <th>3</th>\n",
       "      <td>40.0</td>\n",
       "      <td>admin.</td>\n",
       "      <td>MARRIED</td>\n",
       "      <td>basic.6y</td>\n",
       "      <td>0.0</td>\n",
       "      <td>0.0</td>\n",
       "      <td>0.0</td>\n",
       "      <td>telephone</td>\n",
       "      <td>151</td>\n",
       "      <td>1</td>\n",
       "      <td>999</td>\n",
       "      <td>0</td>\n",
       "      <td>NONEXISTENT</td>\n",
       "      <td>1.1</td>\n",
       "      <td>93.994</td>\n",
       "      <td>-36.4</td>\n",
       "      <td>4.857</td>\n",
       "      <td>5191.0</td>\n",
       "      <td>no</td>\n",
       "      <td>49.041</td>\n",
       "      <td>-70.308</td>\n",
       "      <td>9991fafb-4447-451a-8be2-b0df6098d13e</td>\n",
       "      <td>1.0</td>\n",
       "      <td>0</td>\n",
       "      <td>0.0</td>\n",
       "      <td>121393</td>\n",
       "      <td>1</td>\n",
       "      <td>2</td>\n",
       "      <td>2012-12-21</td>\n",
       "      <td>29</td>\n",
       "      <td>2012</td>\n",
       "      <td>3</td>\n",
       "      <td>0</td>\n",
       "      <td>3</td>\n",
       "    </tr>\n",
       "    <tr>\n",
       "      <th>4</th>\n",
       "      <td>56.0</td>\n",
       "      <td>services</td>\n",
       "      <td>MARRIED</td>\n",
       "      <td>high.school</td>\n",
       "      <td>0.0</td>\n",
       "      <td>0.0</td>\n",
       "      <td>1.0</td>\n",
       "      <td>telephone</td>\n",
       "      <td>307</td>\n",
       "      <td>1</td>\n",
       "      <td>999</td>\n",
       "      <td>0</td>\n",
       "      <td>NONEXISTENT</td>\n",
       "      <td>1.1</td>\n",
       "      <td>93.994</td>\n",
       "      <td>-36.4</td>\n",
       "      <td>4.857</td>\n",
       "      <td>5191.0</td>\n",
       "      <td>no</td>\n",
       "      <td>38.033</td>\n",
       "      <td>-104.463</td>\n",
       "      <td>eca60b76-70b6-4077-80ba-bc52e8ebb0eb</td>\n",
       "      <td>1.0</td>\n",
       "      <td>0</td>\n",
       "      <td>1.0</td>\n",
       "      <td>63164</td>\n",
       "      <td>1</td>\n",
       "      <td>2</td>\n",
       "      <td>2012-06-20</td>\n",
       "      <td>20</td>\n",
       "      <td>2012</td>\n",
       "      <td>3</td>\n",
       "      <td>0</td>\n",
       "      <td>3</td>\n",
       "    </tr>\n",
       "  </tbody>\n",
       "</table>\n",
       "</div>"
      ],
      "text/plain": [
       "    age        job  marital    education  default  housing  loan    contact  \\\n",
       "0  38.0  housemaid  MARRIED     basic.4y      0.0      0.0   0.0  telephone   \n",
       "1  57.0   services  MARRIED  high.school      0.0      0.0   0.0  telephone   \n",
       "2  37.0   services  MARRIED  high.school      0.0      1.0   0.0  telephone   \n",
       "3  40.0     admin.  MARRIED     basic.6y      0.0      0.0   0.0  telephone   \n",
       "4  56.0   services  MARRIED  high.school      0.0      0.0   1.0  telephone   \n",
       "\n",
       "   duration  campaign  pdays  previous     poutcome  emp.var.rate  \\\n",
       "0       261         1    999         0  NONEXISTENT           1.1   \n",
       "1       149         1    999         0  NONEXISTENT           1.1   \n",
       "2       226         1    999         0  NONEXISTENT           1.1   \n",
       "3       151         1    999         0  NONEXISTENT           1.1   \n",
       "4       307         1    999         0  NONEXISTENT           1.1   \n",
       "\n",
       "   cons.price.idx  cons.conf.idx  euribor3m  nr.employed   y  latitude  \\\n",
       "0          93.994          -36.4      4.857       5191.0  no    41.495   \n",
       "1          93.994          -36.4      4.857       5191.0  no    34.601   \n",
       "2          93.994          -36.4      4.857       5191.0  no    34.939   \n",
       "3          93.994          -36.4      4.857       5191.0  no    49.041   \n",
       "4          93.994          -36.4      4.857       5191.0  no    38.033   \n",
       "\n",
       "   longitude                                   id_  ratio_campaign_prev  \\\n",
       "0    -71.233  089b39d8-e4d0-461b-87d4-814d71e0e079                  1.0   \n",
       "1    -83.923  e9d37224-cb6f-4942-98d7-46672963d097                  1.0   \n",
       "2    -94.847  3f9f49b5-e410-4948-bf6e-f9244f04918b                  1.0   \n",
       "3    -70.308  9991fafb-4447-451a-8be2-b0df6098d13e                  1.0   \n",
       "4   -104.463  eca60b76-70b6-4077-80ba-bc52e8ebb0eb                  1.0   \n",
       "\n",
       "   duration_warning  credit_warning  Income  Kidhome  Teenhome Dt_Customer  \\\n",
       "0                 0             0.0  161770        1         0  2012-04-04   \n",
       "1                 0             0.0   85477        1         1  2012-12-30   \n",
       "2                 0             1.0  147233        1         1  2012-02-02   \n",
       "3                 0             0.0  121393        1         2  2012-12-21   \n",
       "4                 0             1.0   63164        1         2  2012-06-20   \n",
       "\n",
       "   NumWebVisitsMonth   Año  TotalKids  recent_customer  TotalHijos  \n",
       "0                 29  2012          1                0           1  \n",
       "1                  7  2012          2                0           2  \n",
       "2                  5  2012          2                0           2  \n",
       "3                 29  2012          3                0           3  \n",
       "4                 20  2012          3                0           3  "
      ]
     },
     "execution_count": 105,
     "metadata": {},
     "output_type": "execute_result"
    }
   ],
   "source": [
    "print(\"Nº de filas y de columnas: \", bnk_add_cust_det_merge.shape)\n",
    "\n",
    "print(\"\\nTipos de datos: \")\n",
    "print(bnk_add_cust_det_merge.dtypes)\n",
    "\n",
    "print(\"\\nMuestra de las primeras 5 filas:\")\n",
    "bnk_add_cust_det_merge.head()"
   ]
  },
  {
   "cell_type": "markdown",
   "id": "5d12f662",
   "metadata": {},
   "source": [
    "### Comprobación de datos nulos y filas duplicadas"
   ]
  },
  {
   "cell_type": "code",
   "execution_count": 106,
   "id": "4aea9e1d",
   "metadata": {},
   "outputs": [
    {
     "name": "stdout",
     "output_type": "stream",
     "text": [
      "Valores nulos por columna: age                    0\n",
      "job                    0\n",
      "marital                0\n",
      "education              0\n",
      "default                0\n",
      "housing                0\n",
      "loan                   0\n",
      "contact                0\n",
      "duration               0\n",
      "campaign               0\n",
      "pdays                  0\n",
      "previous               0\n",
      "poutcome               0\n",
      "emp.var.rate           0\n",
      "cons.price.idx         0\n",
      "cons.conf.idx          0\n",
      "euribor3m              0\n",
      "nr.employed            0\n",
      "y                      0\n",
      "latitude               0\n",
      "longitude              0\n",
      "id_                    0\n",
      "ratio_campaign_prev    0\n",
      "duration_warning       0\n",
      "credit_warning         0\n",
      "Income                 0\n",
      "Kidhome                0\n",
      "Teenhome               0\n",
      "Dt_Customer            0\n",
      "NumWebVisitsMonth      0\n",
      "Año                    0\n",
      "TotalKids              0\n",
      "recent_customer        0\n",
      "TotalHijos             0\n",
      "dtype: int64\n",
      "\n",
      "Nº de filas duplicadas: 0\n"
     ]
    }
   ],
   "source": [
    "print(\"Valores nulos por columna:\", bnk_add_cust_det_merge.isna().sum())\n",
    "\n",
    "print(\"\\nNº de filas duplicadas:\", bnk_add_cust_det_merge.duplicated().sum())"
   ]
  },
  {
   "cell_type": "markdown",
   "id": "fc05d0a0",
   "metadata": {},
   "source": [
    "### Eliminación de la columna date"
   ]
  },
  {
   "cell_type": "code",
   "execution_count": 11,
   "id": "30c69ac9",
   "metadata": {},
   "outputs": [],
   "source": [
    "bnk_add_cust_det_merge = bnk_add_cust_det_merge.drop(columns=[\"date\"]) # considero que al tener la columna 'Dt_Customer', y que la columna 'date' contiene algún valor nulo, lo más limpio y eficaz es borrar la columna 'date' para evitar información duplicada al igual que esos valores nulos ya comentados"
   ]
  },
  {
   "cell_type": "markdown",
   "id": "0e6e0e64",
   "metadata": {},
   "source": [
    "### Comprobación de la eliminación de la columna 'date'"
   ]
  },
  {
   "cell_type": "code",
   "execution_count": 12,
   "id": "7c123c06",
   "metadata": {},
   "outputs": [
    {
     "data": {
      "text/html": [
       "<div>\n",
       "<style scoped>\n",
       "    .dataframe tbody tr th:only-of-type {\n",
       "        vertical-align: middle;\n",
       "    }\n",
       "\n",
       "    .dataframe tbody tr th {\n",
       "        vertical-align: top;\n",
       "    }\n",
       "\n",
       "    .dataframe thead th {\n",
       "        text-align: right;\n",
       "    }\n",
       "</style>\n",
       "<table border=\"1\" class=\"dataframe\">\n",
       "  <thead>\n",
       "    <tr style=\"text-align: right;\">\n",
       "      <th></th>\n",
       "      <th>age</th>\n",
       "      <th>job</th>\n",
       "      <th>marital</th>\n",
       "      <th>education</th>\n",
       "      <th>default</th>\n",
       "      <th>housing</th>\n",
       "      <th>loan</th>\n",
       "      <th>contact</th>\n",
       "      <th>duration</th>\n",
       "      <th>campaign</th>\n",
       "      <th>pdays</th>\n",
       "      <th>previous</th>\n",
       "      <th>poutcome</th>\n",
       "      <th>emp.var.rate</th>\n",
       "      <th>cons.price.idx</th>\n",
       "      <th>cons.conf.idx</th>\n",
       "      <th>euribor3m</th>\n",
       "      <th>nr.employed</th>\n",
       "      <th>y</th>\n",
       "      <th>latitude</th>\n",
       "      <th>longitude</th>\n",
       "      <th>id_</th>\n",
       "      <th>ratio_campaign_prev</th>\n",
       "      <th>duration_warning</th>\n",
       "      <th>credit_warning</th>\n",
       "      <th>Income</th>\n",
       "      <th>Kidhome</th>\n",
       "      <th>Teenhome</th>\n",
       "      <th>Dt_Customer</th>\n",
       "      <th>NumWebVisitsMonth</th>\n",
       "      <th>Año</th>\n",
       "      <th>TotalKids</th>\n",
       "      <th>recent_customer</th>\n",
       "      <th>TotalHijos</th>\n",
       "    </tr>\n",
       "  </thead>\n",
       "  <tbody>\n",
       "    <tr>\n",
       "      <th>0</th>\n",
       "      <td>38.0</td>\n",
       "      <td>housemaid</td>\n",
       "      <td>MARRIED</td>\n",
       "      <td>basic.4y</td>\n",
       "      <td>0.0</td>\n",
       "      <td>0.0</td>\n",
       "      <td>0.0</td>\n",
       "      <td>telephone</td>\n",
       "      <td>261</td>\n",
       "      <td>1</td>\n",
       "      <td>999</td>\n",
       "      <td>0</td>\n",
       "      <td>NONEXISTENT</td>\n",
       "      <td>1.1</td>\n",
       "      <td>93.994</td>\n",
       "      <td>-36.4</td>\n",
       "      <td>4.857</td>\n",
       "      <td>5191.0</td>\n",
       "      <td>no</td>\n",
       "      <td>41.495</td>\n",
       "      <td>-71.233</td>\n",
       "      <td>089b39d8-e4d0-461b-87d4-814d71e0e079</td>\n",
       "      <td>1.0</td>\n",
       "      <td>0</td>\n",
       "      <td>0.0</td>\n",
       "      <td>161770</td>\n",
       "      <td>1</td>\n",
       "      <td>0</td>\n",
       "      <td>2012-04-04</td>\n",
       "      <td>29</td>\n",
       "      <td>2012</td>\n",
       "      <td>1</td>\n",
       "      <td>0</td>\n",
       "      <td>1</td>\n",
       "    </tr>\n",
       "    <tr>\n",
       "      <th>1</th>\n",
       "      <td>57.0</td>\n",
       "      <td>services</td>\n",
       "      <td>MARRIED</td>\n",
       "      <td>high.school</td>\n",
       "      <td>0.0</td>\n",
       "      <td>0.0</td>\n",
       "      <td>0.0</td>\n",
       "      <td>telephone</td>\n",
       "      <td>149</td>\n",
       "      <td>1</td>\n",
       "      <td>999</td>\n",
       "      <td>0</td>\n",
       "      <td>NONEXISTENT</td>\n",
       "      <td>1.1</td>\n",
       "      <td>93.994</td>\n",
       "      <td>-36.4</td>\n",
       "      <td>4.857</td>\n",
       "      <td>5191.0</td>\n",
       "      <td>no</td>\n",
       "      <td>34.601</td>\n",
       "      <td>-83.923</td>\n",
       "      <td>e9d37224-cb6f-4942-98d7-46672963d097</td>\n",
       "      <td>1.0</td>\n",
       "      <td>0</td>\n",
       "      <td>0.0</td>\n",
       "      <td>85477</td>\n",
       "      <td>1</td>\n",
       "      <td>1</td>\n",
       "      <td>2012-12-30</td>\n",
       "      <td>7</td>\n",
       "      <td>2012</td>\n",
       "      <td>2</td>\n",
       "      <td>0</td>\n",
       "      <td>2</td>\n",
       "    </tr>\n",
       "    <tr>\n",
       "      <th>2</th>\n",
       "      <td>37.0</td>\n",
       "      <td>services</td>\n",
       "      <td>MARRIED</td>\n",
       "      <td>high.school</td>\n",
       "      <td>0.0</td>\n",
       "      <td>1.0</td>\n",
       "      <td>0.0</td>\n",
       "      <td>telephone</td>\n",
       "      <td>226</td>\n",
       "      <td>1</td>\n",
       "      <td>999</td>\n",
       "      <td>0</td>\n",
       "      <td>NONEXISTENT</td>\n",
       "      <td>1.1</td>\n",
       "      <td>93.994</td>\n",
       "      <td>-36.4</td>\n",
       "      <td>4.857</td>\n",
       "      <td>5191.0</td>\n",
       "      <td>no</td>\n",
       "      <td>34.939</td>\n",
       "      <td>-94.847</td>\n",
       "      <td>3f9f49b5-e410-4948-bf6e-f9244f04918b</td>\n",
       "      <td>1.0</td>\n",
       "      <td>0</td>\n",
       "      <td>1.0</td>\n",
       "      <td>147233</td>\n",
       "      <td>1</td>\n",
       "      <td>1</td>\n",
       "      <td>2012-02-02</td>\n",
       "      <td>5</td>\n",
       "      <td>2012</td>\n",
       "      <td>2</td>\n",
       "      <td>0</td>\n",
       "      <td>2</td>\n",
       "    </tr>\n",
       "    <tr>\n",
       "      <th>3</th>\n",
       "      <td>40.0</td>\n",
       "      <td>admin.</td>\n",
       "      <td>MARRIED</td>\n",
       "      <td>basic.6y</td>\n",
       "      <td>0.0</td>\n",
       "      <td>0.0</td>\n",
       "      <td>0.0</td>\n",
       "      <td>telephone</td>\n",
       "      <td>151</td>\n",
       "      <td>1</td>\n",
       "      <td>999</td>\n",
       "      <td>0</td>\n",
       "      <td>NONEXISTENT</td>\n",
       "      <td>1.1</td>\n",
       "      <td>93.994</td>\n",
       "      <td>-36.4</td>\n",
       "      <td>4.857</td>\n",
       "      <td>5191.0</td>\n",
       "      <td>no</td>\n",
       "      <td>49.041</td>\n",
       "      <td>-70.308</td>\n",
       "      <td>9991fafb-4447-451a-8be2-b0df6098d13e</td>\n",
       "      <td>1.0</td>\n",
       "      <td>0</td>\n",
       "      <td>0.0</td>\n",
       "      <td>121393</td>\n",
       "      <td>1</td>\n",
       "      <td>2</td>\n",
       "      <td>2012-12-21</td>\n",
       "      <td>29</td>\n",
       "      <td>2012</td>\n",
       "      <td>3</td>\n",
       "      <td>0</td>\n",
       "      <td>3</td>\n",
       "    </tr>\n",
       "    <tr>\n",
       "      <th>4</th>\n",
       "      <td>56.0</td>\n",
       "      <td>services</td>\n",
       "      <td>MARRIED</td>\n",
       "      <td>high.school</td>\n",
       "      <td>0.0</td>\n",
       "      <td>0.0</td>\n",
       "      <td>1.0</td>\n",
       "      <td>telephone</td>\n",
       "      <td>307</td>\n",
       "      <td>1</td>\n",
       "      <td>999</td>\n",
       "      <td>0</td>\n",
       "      <td>NONEXISTENT</td>\n",
       "      <td>1.1</td>\n",
       "      <td>93.994</td>\n",
       "      <td>-36.4</td>\n",
       "      <td>4.857</td>\n",
       "      <td>5191.0</td>\n",
       "      <td>no</td>\n",
       "      <td>38.033</td>\n",
       "      <td>-104.463</td>\n",
       "      <td>eca60b76-70b6-4077-80ba-bc52e8ebb0eb</td>\n",
       "      <td>1.0</td>\n",
       "      <td>0</td>\n",
       "      <td>1.0</td>\n",
       "      <td>63164</td>\n",
       "      <td>1</td>\n",
       "      <td>2</td>\n",
       "      <td>2012-06-20</td>\n",
       "      <td>20</td>\n",
       "      <td>2012</td>\n",
       "      <td>3</td>\n",
       "      <td>0</td>\n",
       "      <td>3</td>\n",
       "    </tr>\n",
       "  </tbody>\n",
       "</table>\n",
       "</div>"
      ],
      "text/plain": [
       "    age        job  marital    education  default  housing  loan    contact  \\\n",
       "0  38.0  housemaid  MARRIED     basic.4y      0.0      0.0   0.0  telephone   \n",
       "1  57.0   services  MARRIED  high.school      0.0      0.0   0.0  telephone   \n",
       "2  37.0   services  MARRIED  high.school      0.0      1.0   0.0  telephone   \n",
       "3  40.0     admin.  MARRIED     basic.6y      0.0      0.0   0.0  telephone   \n",
       "4  56.0   services  MARRIED  high.school      0.0      0.0   1.0  telephone   \n",
       "\n",
       "   duration  campaign  pdays  previous     poutcome  emp.var.rate  \\\n",
       "0       261         1    999         0  NONEXISTENT           1.1   \n",
       "1       149         1    999         0  NONEXISTENT           1.1   \n",
       "2       226         1    999         0  NONEXISTENT           1.1   \n",
       "3       151         1    999         0  NONEXISTENT           1.1   \n",
       "4       307         1    999         0  NONEXISTENT           1.1   \n",
       "\n",
       "   cons.price.idx  cons.conf.idx  euribor3m  nr.employed   y  latitude  \\\n",
       "0          93.994          -36.4      4.857       5191.0  no    41.495   \n",
       "1          93.994          -36.4      4.857       5191.0  no    34.601   \n",
       "2          93.994          -36.4      4.857       5191.0  no    34.939   \n",
       "3          93.994          -36.4      4.857       5191.0  no    49.041   \n",
       "4          93.994          -36.4      4.857       5191.0  no    38.033   \n",
       "\n",
       "   longitude                                   id_  ratio_campaign_prev  \\\n",
       "0    -71.233  089b39d8-e4d0-461b-87d4-814d71e0e079                  1.0   \n",
       "1    -83.923  e9d37224-cb6f-4942-98d7-46672963d097                  1.0   \n",
       "2    -94.847  3f9f49b5-e410-4948-bf6e-f9244f04918b                  1.0   \n",
       "3    -70.308  9991fafb-4447-451a-8be2-b0df6098d13e                  1.0   \n",
       "4   -104.463  eca60b76-70b6-4077-80ba-bc52e8ebb0eb                  1.0   \n",
       "\n",
       "   duration_warning  credit_warning  Income  Kidhome  Teenhome Dt_Customer  \\\n",
       "0                 0             0.0  161770        1         0  2012-04-04   \n",
       "1                 0             0.0   85477        1         1  2012-12-30   \n",
       "2                 0             1.0  147233        1         1  2012-02-02   \n",
       "3                 0             0.0  121393        1         2  2012-12-21   \n",
       "4                 0             1.0   63164        1         2  2012-06-20   \n",
       "\n",
       "   NumWebVisitsMonth   Año  TotalKids  recent_customer  TotalHijos  \n",
       "0                 29  2012          1                0           1  \n",
       "1                  7  2012          2                0           2  \n",
       "2                  5  2012          2                0           2  \n",
       "3                 29  2012          3                0           3  \n",
       "4                 20  2012          3                0           3  "
      ]
     },
     "execution_count": 12,
     "metadata": {},
     "output_type": "execute_result"
    }
   ],
   "source": [
    "bnk_add_cust_det_merge.head()"
   ]
  },
  {
   "cell_type": "code",
   "execution_count": null,
   "id": "15497040",
   "metadata": {},
   "outputs": [],
   "source": [
    "bnk_add_cust_det_merge[\"Dt_Customer\"] = pd.to_datetime(bnk_add_cust_det_merge[\"Dt_Customer\"]) # es necesario cambiar el tipo de dato de la columna 'Dt_Customer' de object a datetime para poder extraer el mes, año o día de esta columna, ya que a continuación lo necesitaremos al crear filtrados, agrupamientos o incluso gráficas"
   ]
  },
  {
   "cell_type": "code",
   "execution_count": 23,
   "id": "12ba3ae9",
   "metadata": {},
   "outputs": [
    {
     "name": "stdout",
     "output_type": "stream",
     "text": [
      "datetime64[ns]\n"
     ]
    }
   ],
   "source": [
    "print(bnk_add_cust_det_merge.dtypes[\"Dt_Customer\"])"
   ]
  },
  {
   "cell_type": "markdown",
   "id": "ede782b2",
   "metadata": {},
   "source": [
    "### Reutilización de código para la creación de filtrados y agrupamientos "
   ]
  },
  {
   "cell_type": "markdown",
   "id": "d76ea84a",
   "metadata": {},
   "source": [
    "En este apartado he querido recuperar las líneas de codigo que hemos usado en los otros dos archivos por si hacen falta al estudiar algún aspecto en concreto"
   ]
  },
  {
   "cell_type": "code",
   "execution_count": 24,
   "id": "2c88b94b",
   "metadata": {},
   "outputs": [],
   "source": [
    "clientes_altos_ingresos = bnk_add_cust_det_merge[bnk_add_cust_det_merge[\"Income\"] > 150000]  # clientes con ingresos altos\n",
    "\n",
    "clientes_recientes = bnk_add_cust_det_merge[bnk_add_cust_det_merge[\"Dt_Customer\"].dt.year > 2015] # clientes que entraron después de 2015\n",
    "\n",
    "clientes_llamada_larga = bnk_add_cust_det_merge[bnk_add_cust_det_merge[\"duration\"] > 500] # clientes cuya última llamada sea de más de 500 segundos, lo que podeos considerar como una llamada larga\n",
    "\n",
    "clientes_jovenes = bnk_add_cust_det_merge[bnk_add_cust_det_merge[\"age\"] < 30] # clientes menores de 30 años (clientes jóvenes)"
   ]
  },
  {
   "cell_type": "code",
   "execution_count": 25,
   "id": "458fb570",
   "metadata": {},
   "outputs": [],
   "source": [
    "ingreso_promedio_año = bnk_add_cust_det_merge.groupby(\"Año\")[\"Income\"].mean().sort_values(ascending=False) # media de ingresos por año de alta\n",
    "\n",
    "visitas_por_hijos = bnk_add_cust_det_merge.groupby([\"Kidhome\", \"Teenhome\"])[\"NumWebVisitsMonth\"].mean() # promedio de visitas web por número de hijos\n",
    "\n",
    "duracion_por_trabajo = bnk_add_cust_det_merge.groupby(\"job\")[\"duration\"].mean().sort_values(ascending=False) # duración de la llamada por puesto de trabajo\n",
    "\n",
    "tasa_exito_educacion = bnk_add_cust_det_merge.groupby(\"education\")[\"y\"].apply(lambda x: (x==\"yes\").mean()).sort_values(ascending=False) # tasa de éxito por nivel educativo"
   ]
  },
  {
   "cell_type": "code",
   "execution_count": 26,
   "id": "0c3f614f",
   "metadata": {},
   "outputs": [],
   "source": [
    "clientes_activos = bnk_add_cust_det_merge.query(\"NumWebVisitsMonth > 20 & TotalKids > 1\") # clientes con muchas visitas a la web y con más de un hijo\n",
    "\n",
    "clientes_riesgo = bnk_add_cust_det_merge.query(\"age > 50 & loan == 1 & housing == 1\") # clientes mayores de 50 años que tienen un préstamo personal e hipotecario"
   ]
  },
  {
   "cell_type": "markdown",
   "id": "5b378fd4",
   "metadata": {},
   "source": [
    "### Nuevos agrupamientos y filtrados con sus respectivas gráficas"
   ]
  },
  {
   "cell_type": "code",
   "execution_count": null,
   "id": "ea86f68d",
   "metadata": {},
   "outputs": [
    {
     "name": "stdout",
     "output_type": "stream",
     "text": [
      "(2504, 34)\n"
     ]
    }
   ],
   "source": [
    "clientes_ingresos_altos_hijos = bnk_add_cust_det_merge.query(\"Income > 150000 & TotalHijos > 2\") # clientes con ingresos y nº de hijos alto\n",
    "print(clientes_ingresos_altos_hijos.shape)"
   ]
  },
  {
   "cell_type": "code",
   "execution_count": 101,
   "id": "dddcec16",
   "metadata": {},
   "outputs": [
    {
     "data": {
      "image/png": "[encoded data removed]",
      "text/plain": [
       "<Figure size 640x480 with 1 Axes>"
      ]
     },
     "metadata": {},
     "output_type": "display_data"
    }
   ],
   "source": [
    "sns.histplot(clientes_ingresos_altos_hijos[\"Income\"], bins=5, color=\"lightblue\")\n",
    "plt.title(\"Clientes con ingresos altos y más de 2 hijos\")\n",
    "plt.xlabel(\"Ingreso anual\")\n",
    "plt.ylabel(\"Cantidad de clientes\")\n",
    "plt.show()"
   ]
  },
  {
   "cell_type": "markdown",
   "id": "ff025870",
   "metadata": {},
   "source": [
    "Se observa una ligera tendencia de como aquellos clientes con ingresos más altos, tienen un número mayor de hijos (en este caso más de dos hijos)"
   ]
  },
  {
   "cell_type": "code",
   "execution_count": 38,
   "id": "2b4938e9",
   "metadata": {},
   "outputs": [
    {
     "name": "stdout",
     "output_type": "stream",
     "text": [
      "NumWebVisitsMonth\n",
      "1     258.148318\n",
      "2     261.092199\n",
      "3     244.139403\n",
      "4     261.203540\n",
      "5     248.264906\n",
      "6     250.382286\n",
      "7     258.265466\n",
      "8     260.053707\n",
      "9     251.381203\n",
      "10    263.311439\n",
      "11    262.183988\n",
      "12    256.515108\n",
      "13    274.029499\n",
      "14    260.448736\n",
      "15    246.778924\n",
      "16    265.803101\n",
      "17    257.048265\n",
      "18    257.248244\n",
      "19    263.485007\n",
      "20    262.627941\n",
      "21    263.505789\n",
      "22    261.913269\n",
      "23    248.498171\n",
      "24    263.470323\n",
      "25    256.604634\n",
      "26    267.131148\n",
      "27    255.697126\n",
      "28    254.639381\n",
      "29    259.965967\n",
      "30    240.249622\n",
      "31    254.877713\n",
      "32    259.201848\n",
      "Name: duration, dtype: float64\n"
     ]
    }
   ],
   "source": [
    "prom_duracion_por_visitas = bnk_add_cust_det_merge.groupby(\"NumWebVisitsMonth\")[\"duration\"].mean() # promedio de la duración de las llamadas agrupado por nº de veces que llama cada cliente\n",
    "print(prom_duracion_por_visitas)"
   ]
  },
  {
   "cell_type": "code",
   "execution_count": 79,
   "id": "9aaa5dbe",
   "metadata": {},
   "outputs": [
    {
     "data": {
      "image/png": "[encoded data removed]",
      "text/plain": [
       "<Figure size 1500x500 with 1 Axes>"
      ]
     },
     "metadata": {},
     "output_type": "display_data"
    }
   ],
   "source": [
    "plt.figure(figsize=(15,5))\n",
    "prom_duracion_por_visitas.plot(kind=\"bar\", color=\"lightblue\", edgecolor=\"black\")\n",
    "plt.title(\"Promedio de duración de llamadas según visitas web\")\n",
    "plt.xlabel(\"Nº de visitas web al mes\")\n",
    "plt.ylabel(\"Duración promedio (segundos)\")\n",
    "plt.show()"
   ]
  },
  {
   "cell_type": "markdown",
   "id": "1ad4b00f",
   "metadata": {},
   "source": [
    "No observamos ninguna anomalía en el promedio de llamadas por visitas a la página web"
   ]
  },
  {
   "cell_type": "code",
   "execution_count": null,
   "id": "c87c518b",
   "metadata": {},
   "outputs": [
    {
     "data": {
      "text/html": [
       "<div>\n",
       "<style scoped>\n",
       "    .dataframe tbody tr th:only-of-type {\n",
       "        vertical-align: middle;\n",
       "    }\n",
       "\n",
       "    .dataframe tbody tr th {\n",
       "        vertical-align: top;\n",
       "    }\n",
       "\n",
       "    .dataframe thead th {\n",
       "        text-align: right;\n",
       "    }\n",
       "</style>\n",
       "<table border=\"1\" class=\"dataframe\">\n",
       "  <thead>\n",
       "    <tr style=\"text-align: right;\">\n",
       "      <th></th>\n",
       "      <th>count</th>\n",
       "      <th>mean</th>\n",
       "      <th>std</th>\n",
       "      <th>min</th>\n",
       "      <th>25%</th>\n",
       "      <th>50%</th>\n",
       "      <th>75%</th>\n",
       "      <th>max</th>\n",
       "    </tr>\n",
       "    <tr>\n",
       "      <th>education</th>\n",
       "      <th></th>\n",
       "      <th></th>\n",
       "      <th></th>\n",
       "      <th></th>\n",
       "      <th></th>\n",
       "      <th></th>\n",
       "      <th></th>\n",
       "      <th></th>\n",
       "    </tr>\n",
       "  </thead>\n",
       "  <tbody>\n",
       "    <tr>\n",
       "      <th>basic.4y</th>\n",
       "      <td>4356.0</td>\n",
       "      <td>46.460514</td>\n",
       "      <td>11.921001</td>\n",
       "      <td>18.0</td>\n",
       "      <td>38.0</td>\n",
       "      <td>45.0</td>\n",
       "      <td>54.0</td>\n",
       "      <td>98.0</td>\n",
       "    </tr>\n",
       "    <tr>\n",
       "      <th>basic.6y</th>\n",
       "      <td>2386.0</td>\n",
       "      <td>40.115675</td>\n",
       "      <td>8.158032</td>\n",
       "      <td>18.0</td>\n",
       "      <td>35.0</td>\n",
       "      <td>38.0</td>\n",
       "      <td>45.0</td>\n",
       "      <td>95.0</td>\n",
       "    </tr>\n",
       "    <tr>\n",
       "      <th>basic.9y</th>\n",
       "      <td>6309.0</td>\n",
       "      <td>38.973371</td>\n",
       "      <td>9.036068</td>\n",
       "      <td>17.0</td>\n",
       "      <td>33.0</td>\n",
       "      <td>38.0</td>\n",
       "      <td>45.0</td>\n",
       "      <td>94.0</td>\n",
       "    </tr>\n",
       "    <tr>\n",
       "      <th>high.school</th>\n",
       "      <td>9925.0</td>\n",
       "      <td>37.920302</td>\n",
       "      <td>9.081963</td>\n",
       "      <td>18.0</td>\n",
       "      <td>31.0</td>\n",
       "      <td>38.0</td>\n",
       "      <td>43.0</td>\n",
       "      <td>88.0</td>\n",
       "    </tr>\n",
       "    <tr>\n",
       "      <th>illiterate</th>\n",
       "      <td>18.0</td>\n",
       "      <td>46.388889</td>\n",
       "      <td>11.230939</td>\n",
       "      <td>34.0</td>\n",
       "      <td>38.0</td>\n",
       "      <td>44.5</td>\n",
       "      <td>51.0</td>\n",
       "      <td>80.0</td>\n",
       "    </tr>\n",
       "    <tr>\n",
       "      <th>professional.course</th>\n",
       "      <td>5477.0</td>\n",
       "      <td>39.760635</td>\n",
       "      <td>9.294598</td>\n",
       "      <td>20.0</td>\n",
       "      <td>33.0</td>\n",
       "      <td>38.0</td>\n",
       "      <td>45.0</td>\n",
       "      <td>86.0</td>\n",
       "    </tr>\n",
       "    <tr>\n",
       "      <th>university.degree</th>\n",
       "      <td>12722.0</td>\n",
       "      <td>38.747210</td>\n",
       "      <td>9.061291</td>\n",
       "      <td>20.0</td>\n",
       "      <td>32.0</td>\n",
       "      <td>38.0</td>\n",
       "      <td>44.0</td>\n",
       "      <td>91.0</td>\n",
       "    </tr>\n",
       "    <tr>\n",
       "      <th>unknown</th>\n",
       "      <td>1807.0</td>\n",
       "      <td>42.615938</td>\n",
       "      <td>11.806193</td>\n",
       "      <td>17.0</td>\n",
       "      <td>36.0</td>\n",
       "      <td>41.0</td>\n",
       "      <td>50.0</td>\n",
       "      <td>92.0</td>\n",
       "    </tr>\n",
       "  </tbody>\n",
       "</table>\n",
       "</div>"
      ],
      "text/plain": [
       "                       count       mean        std   min   25%   50%   75%  \\\n",
       "education                                                                    \n",
       "basic.4y              4356.0  46.460514  11.921001  18.0  38.0  45.0  54.0   \n",
       "basic.6y              2386.0  40.115675   8.158032  18.0  35.0  38.0  45.0   \n",
       "basic.9y              6309.0  38.973371   9.036068  17.0  33.0  38.0  45.0   \n",
       "high.school           9925.0  37.920302   9.081963  18.0  31.0  38.0  43.0   \n",
       "illiterate              18.0  46.388889  11.230939  34.0  38.0  44.5  51.0   \n",
       "professional.course   5477.0  39.760635   9.294598  20.0  33.0  38.0  45.0   \n",
       "university.degree    12722.0  38.747210   9.061291  20.0  32.0  38.0  44.0   \n",
       "unknown               1807.0  42.615938  11.806193  17.0  36.0  41.0  50.0   \n",
       "\n",
       "                      max  \n",
       "education                  \n",
       "basic.4y             98.0  \n",
       "basic.6y             95.0  \n",
       "basic.9y             94.0  \n",
       "high.school          88.0  \n",
       "illiterate           80.0  \n",
       "professional.course  86.0  \n",
       "university.degree    91.0  \n",
       "unknown              92.0  "
      ]
     },
     "execution_count": 33,
     "metadata": {},
     "output_type": "execute_result"
    }
   ],
   "source": [
    "edad_por_educacion = bnk_add_cust_det_merge.groupby(\"education\")[\"age\"].describe() # estadística de la edad por nivel educativo\n",
    "edad_por_educacion"
   ]
  },
  {
   "cell_type": "code",
   "execution_count": 67,
   "id": "baea4ffa",
   "metadata": {},
   "outputs": [
    {
     "data": {
      "image/png": "[encoded data removed]",
      "text/plain": [
       "<Figure size 800x300 with 1 Axes>"
      ]
     },
     "metadata": {},
     "output_type": "display_data"
    }
   ],
   "source": [
    "edad_por_educacion = bnk_add_cust_det_merge.groupby(\"education\")[\"age\"].mean()\n",
    "plt.figure(figsize=(8,3))\n",
    "edad_por_educacion.plot(kind=\"bar\", color=\"lightblue\", edgecolor=\"black\")\n",
    "plt.title(\"Edad promedio por nivel educativo\")\n",
    "plt.xlabel(\"Nivel educativo\")\n",
    "plt.ylabel(\"Edad promedio\")\n",
    "plt.show()"
   ]
  },
  {
   "cell_type": "markdown",
   "id": "8d94c55b",
   "metadata": {},
   "source": [
    "Se observa como los clientes de mayor edad tienen un nivel educativo más bajo que el resto (nivel básico de 4 años o analfabetos), lo cual tiene sentido ya que antes era más díficil acceder a un nivel educativo más alto como un grado universitario o un grado de formación profesional"
   ]
  },
  {
   "cell_type": "code",
   "execution_count": null,
   "id": "ce53c63c",
   "metadata": {},
   "outputs": [
    {
     "name": "stdout",
     "output_type": "stream",
     "text": [
      "Income\n",
      "5841      252.000000\n",
      "5848      310.000000\n",
      "5852      180.000000\n",
      "5858      305.000000\n",
      "5867      316.000000\n",
      "             ...    \n",
      "180780    248.666667\n",
      "180786    274.000000\n",
      "180787    203.333333\n",
      "180791    886.000000\n",
      "180802    251.000000\n",
      "Name: duration, Length: 38173, dtype: float64\n"
     ]
    }
   ],
   "source": [
    "duracion_por_ingreso = bnk_add_cust_det_merge.groupby(bnk_add_cust_det_merge[\"Income\"])[\"duration\"].mean() # promedio de la duración de las llamadas por ingresos\n",
    "print(duracion_por_ingreso)  # en este caso habría que acotar un rango de ingresos porque si no obtenemos un output muy extenso"
   ]
  },
  {
   "cell_type": "code",
   "execution_count": 77,
   "id": "c3662705",
   "metadata": {},
   "outputs": [
    {
     "data": {
      "image/png": "[encoded data removed]",
      "text/plain": [
       "<Figure size 1500x500 with 1 Axes>"
      ]
     },
     "metadata": {},
     "output_type": "display_data"
    }
   ],
   "source": [
    "duracion_por_ingreso = bnk_add_cust_det_merge.groupby(\"Income\")[\"duration\"].mean()\n",
    "plt.figure(figsize=(15,5))\n",
    "duracion_por_ingreso.plot(kind=\"line\", color=\"lightblue\")\n",
    "plt.title(\"Duración promedio de llamadas por nivel de ingresos\")\n",
    "plt.xlabel(\"Ingresos\")\n",
    "plt.ylabel(\"Duración promedio (segundos)\")\n",
    "plt.show()"
   ]
  },
  {
   "cell_type": "markdown",
   "id": "0c3b0790",
   "metadata": {},
   "source": [
    "Destacan algunos picos de llamadas que superan los 3.000 segundos (50 minutos), pero no se observa ninguna correlación con los ingresos anuales, pues estos picos se extienden a lo largo de la gráfica indistintamente"
   ]
  },
  {
   "cell_type": "code",
   "execution_count": null,
   "id": "a31bc14e",
   "metadata": {},
   "outputs": [
    {
     "name": "stdout",
     "output_type": "stream",
     "text": [
      "(204, 34)\n"
     ]
    }
   ],
   "source": [
    "clientes_riesgo_ext = bnk_add_cust_det_merge.query(\"age > 50 & loan == 1 & housing == 1 & TotalHijos > 2\") # parecido a una que teníamos antes pero en este caso busca clientes en riesgo extremo, pues incluye también un nº de hijos superior a dos.\n",
    "print(clientes_riesgo_ext.shape)"
   ]
  },
  {
   "cell_type": "code",
   "execution_count": 97,
   "id": "d1e8fe82",
   "metadata": {},
   "outputs": [
    {
     "data": {
      "image/png": "[encoded data removed]",
      "text/plain": [
       "<Figure size 640x480 with 1 Axes>"
      ]
     },
     "metadata": {},
     "output_type": "display_data"
    }
   ],
   "source": [
    "sns.histplot(clientes_riesgo_ext[\"age\"], bins=5, color=\"lightblue\")\n",
    "plt.title(\"Clientes de riesgo extremo: distribución de edad\")\n",
    "plt.xlabel(\"Edad\")\n",
    "plt.ylabel(\"Cantidad de clientes\")\n",
    "plt.show()"
   ]
  },
  {
   "cell_type": "markdown",
   "id": "3d1ed21a",
   "metadata": {},
   "source": [
    "La gran mayoría de clientes en riesgo extremo (mayores de 50 años, con más de dos hijos y varios préstamos) se sitúan enter los 50 y los 58 años. Además esta cifra va disminuyendo conforme mayores son los clientes."
   ]
  },
  {
   "cell_type": "markdown",
   "id": "500ceae0",
   "metadata": {},
   "source": [
    "### CSV con el resultado final del DataFrame 'bnk_add_cust_det_merge' (bank-additional + customer-details)"
   ]
  },
  {
   "cell_type": "code",
   "execution_count": 108,
   "id": "91e513c1",
   "metadata": {},
   "outputs": [],
   "source": [
    "bnk_add_cust_det_merge.to_csv(\"bnk_add_cust_det_merge.csv\", index=False) "
   ]
  },
  {
   "cell_type": "markdown",
   "id": "00cff7cf",
   "metadata": {},
   "source": [
    "### Excel con el resultado final del DataFrame 'bnk_add_cust_det_merge' (bank-additional + customer-details)"
   ]
  },
  {
   "cell_type": "code",
   "execution_count": 109,
   "id": "d86099f3",
   "metadata": {},
   "outputs": [],
   "source": [
    "bnk_add_cust_det_merge.to_excel(\"bnk_add_cust_det_merge.xlsx\", index=False)"
   ]
  }
 ],
 "metadata": {
  "kernelspec": {
   "display_name": "Python 3",
   "language": "python",
   "name": "python3"
  },
  "language_info": {
   "codemirror_mode": {
    "name": "ipython",
    "version": 3
   },
   "file_extension": ".py",
   "mimetype": "text/x-python",
   "name": "python",
   "nbconvert_exporter": "python",
   "pygments_lexer": "ipython3",
   "version": "3.13.1"
  }
 },
 "nbformat": 4,
 "nbformat_minor": 5
}
