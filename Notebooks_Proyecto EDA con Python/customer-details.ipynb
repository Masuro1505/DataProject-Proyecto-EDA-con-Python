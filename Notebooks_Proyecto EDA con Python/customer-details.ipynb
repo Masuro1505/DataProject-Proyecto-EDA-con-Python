{
 "cells": [
  {
   "cell_type": "markdown",
   "id": "18700f44",
   "metadata": {},
   "source": [
    "# Análisis Parcial II (customer-details)"
   ]
  },
  {
   "cell_type": "markdown",
   "id": "b1fd7017",
   "metadata": {},
   "source": [
    "### Importamos las librerías que vamos a necesitar"
   ]
  },
  {
   "cell_type": "code",
   "execution_count": 2,
   "id": "f317c343",
   "metadata": {},
   "outputs": [],
   "source": [
    "import numpy as np\n",
    "import pandas as pd\n",
    "\n",
    "import matplotlib.pyplot as plt\n",
    "import seaborn as sns"
   ]
  },
  {
   "cell_type": "markdown",
   "id": "91f7cdfa",
   "metadata": {},
   "source": [
    "### Añadimos algunos settings para mejorar la visualización de los datos"
   ]
  },
  {
   "cell_type": "code",
   "execution_count": 3,
   "id": "6478dff8",
   "metadata": {},
   "outputs": [],
   "source": [
    "pd.set_option('display.max_columns', None) # nos enseña todas las columnas\n",
    "sns.set(style=\"whitegrid\") # ayuda a la hora de insertar gráficos"
   ]
  },
  {
   "cell_type": "markdown",
   "id": "9343f4f7",
   "metadata": {},
   "source": [
    "### Importamos nuestro archivo xlsx"
   ]
  },
  {
   "cell_type": "code",
   "execution_count": 14,
   "id": "207718f9",
   "metadata": {},
   "outputs": [],
   "source": [
    "cust_det_2012 = pd.read_excel(\"../Datos_Proyecto_EDA_Bruto/customer-details.xlsx\", sheet_name=\"2012\")\n",
    "cust_det_2013 = pd.read_excel(\"../Datos_Proyecto_EDA_Bruto/customer-details.xlsx\", sheet_name=\"2013\")\n",
    "cust_det_2014 = pd.read_excel(\"../Datos_Proyecto_EDA_Bruto/customer-details.xlsx\", sheet_name=\"2014\")"
   ]
  },
  {
   "cell_type": "markdown",
   "id": "22a4f3ee",
   "metadata": {},
   "source": [
    "### Añadimos columna del año para identificar de que año viene cada fila"
   ]
  },
  {
   "cell_type": "code",
   "execution_count": 15,
   "id": "f97d72c9",
   "metadata": {},
   "outputs": [],
   "source": [
    "cust_det_2012[\"Año\"] = 2012\n",
    "cust_det_2013[\"Año\"] = 2013\n",
    "cust_det_2014[\"Año\"] = 2014"
   ]
  },
  {
   "cell_type": "markdown",
   "id": "d821d196",
   "metadata": {},
   "source": [
    "### Concatenamos las 3 hojas para trabajar con ellas en un solo Dataframe"
   ]
  },
  {
   "cell_type": "code",
   "execution_count": 16,
   "id": "700e5bb2",
   "metadata": {},
   "outputs": [],
   "source": [
    "cust_det = pd.concat([cust_det_2012, cust_det_2013, cust_det_2014], ignore_index=True)"
   ]
  },
  {
   "cell_type": "markdown",
   "id": "64c29f3c",
   "metadata": {},
   "source": [
    "### Hacemos una copia del DataFrame original por si necesitamos acceder a algunos datos más adelante"
   ]
  },
  {
   "cell_type": "code",
   "execution_count": 89,
   "id": "0a2858be",
   "metadata": {},
   "outputs": [],
   "source": [
    "cust_det_copy = cust_det.copy()"
   ]
  },
  {
   "cell_type": "markdown",
   "id": "ae489fa3",
   "metadata": {},
   "source": [
    "### Primer resumen de la forma, tipos de datos y una muestra de los datos que vamos a estudiar"
   ]
  },
  {
   "cell_type": "code",
   "execution_count": 97,
   "id": "3230e618",
   "metadata": {},
   "outputs": [
    {
     "name": "stdout",
     "output_type": "stream",
     "text": [
      "Nº de filas y de columnas:  (43170, 10)\n",
      "\n",
      "Tipos de datos: \n",
      "Income                        int64\n",
      "Kidhome                       int64\n",
      "Teenhome                      int64\n",
      "Dt_Customer          datetime64[ns]\n",
      "NumWebVisitsMonth             int64\n",
      "ID                           object\n",
      "Año                           int64\n",
      "TotalKids                     int64\n",
      "recent_customer               int64\n",
      "TotalHijos                    int64\n",
      "dtype: object\n",
      "\n",
      "Muestra de las primeras 5 filas:\n"
     ]
    },
    {
     "data": {
      "text/html": [
       "<div>\n",
       "<style scoped>\n",
       "    .dataframe tbody tr th:only-of-type {\n",
       "        vertical-align: middle;\n",
       "    }\n",
       "\n",
       "    .dataframe tbody tr th {\n",
       "        vertical-align: top;\n",
       "    }\n",
       "\n",
       "    .dataframe thead th {\n",
       "        text-align: right;\n",
       "    }\n",
       "</style>\n",
       "<table border=\"1\" class=\"dataframe\">\n",
       "  <thead>\n",
       "    <tr style=\"text-align: right;\">\n",
       "      <th></th>\n",
       "      <th>Income</th>\n",
       "      <th>Kidhome</th>\n",
       "      <th>Teenhome</th>\n",
       "      <th>Dt_Customer</th>\n",
       "      <th>NumWebVisitsMonth</th>\n",
       "      <th>ID</th>\n",
       "      <th>Año</th>\n",
       "      <th>TotalKids</th>\n",
       "      <th>recent_customer</th>\n",
       "      <th>TotalHijos</th>\n",
       "    </tr>\n",
       "  </thead>\n",
       "  <tbody>\n",
       "    <tr>\n",
       "      <th>0</th>\n",
       "      <td>161770</td>\n",
       "      <td>1</td>\n",
       "      <td>0</td>\n",
       "      <td>2012-04-04</td>\n",
       "      <td>29</td>\n",
       "      <td>089b39d8-e4d0-461b-87d4-814d71e0e079</td>\n",
       "      <td>2012</td>\n",
       "      <td>1</td>\n",
       "      <td>0</td>\n",
       "      <td>1</td>\n",
       "    </tr>\n",
       "    <tr>\n",
       "      <th>1</th>\n",
       "      <td>85477</td>\n",
       "      <td>1</td>\n",
       "      <td>1</td>\n",
       "      <td>2012-12-30</td>\n",
       "      <td>7</td>\n",
       "      <td>e9d37224-cb6f-4942-98d7-46672963d097</td>\n",
       "      <td>2012</td>\n",
       "      <td>2</td>\n",
       "      <td>0</td>\n",
       "      <td>2</td>\n",
       "    </tr>\n",
       "    <tr>\n",
       "      <th>2</th>\n",
       "      <td>147233</td>\n",
       "      <td>1</td>\n",
       "      <td>1</td>\n",
       "      <td>2012-02-02</td>\n",
       "      <td>5</td>\n",
       "      <td>3f9f49b5-e410-4948-bf6e-f9244f04918b</td>\n",
       "      <td>2012</td>\n",
       "      <td>2</td>\n",
       "      <td>0</td>\n",
       "      <td>2</td>\n",
       "    </tr>\n",
       "    <tr>\n",
       "      <th>3</th>\n",
       "      <td>121393</td>\n",
       "      <td>1</td>\n",
       "      <td>2</td>\n",
       "      <td>2012-12-21</td>\n",
       "      <td>29</td>\n",
       "      <td>9991fafb-4447-451a-8be2-b0df6098d13e</td>\n",
       "      <td>2012</td>\n",
       "      <td>3</td>\n",
       "      <td>0</td>\n",
       "      <td>3</td>\n",
       "    </tr>\n",
       "    <tr>\n",
       "      <th>4</th>\n",
       "      <td>63164</td>\n",
       "      <td>1</td>\n",
       "      <td>2</td>\n",
       "      <td>2012-06-20</td>\n",
       "      <td>20</td>\n",
       "      <td>eca60b76-70b6-4077-80ba-bc52e8ebb0eb</td>\n",
       "      <td>2012</td>\n",
       "      <td>3</td>\n",
       "      <td>0</td>\n",
       "      <td>3</td>\n",
       "    </tr>\n",
       "  </tbody>\n",
       "</table>\n",
       "</div>"
      ],
      "text/plain": [
       "   Income  Kidhome  Teenhome Dt_Customer  NumWebVisitsMonth  \\\n",
       "0  161770        1         0  2012-04-04                 29   \n",
       "1   85477        1         1  2012-12-30                  7   \n",
       "2  147233        1         1  2012-02-02                  5   \n",
       "3  121393        1         2  2012-12-21                 29   \n",
       "4   63164        1         2  2012-06-20                 20   \n",
       "\n",
       "                                     ID   Año  TotalKids  recent_customer  \\\n",
       "0  089b39d8-e4d0-461b-87d4-814d71e0e079  2012          1                0   \n",
       "1  e9d37224-cb6f-4942-98d7-46672963d097  2012          2                0   \n",
       "2  3f9f49b5-e410-4948-bf6e-f9244f04918b  2012          2                0   \n",
       "3  9991fafb-4447-451a-8be2-b0df6098d13e  2012          3                0   \n",
       "4  eca60b76-70b6-4077-80ba-bc52e8ebb0eb  2012          3                0   \n",
       "\n",
       "   TotalHijos  \n",
       "0           1  \n",
       "1           2  \n",
       "2           2  \n",
       "3           3  \n",
       "4           3  "
      ]
     },
     "execution_count": 97,
     "metadata": {},
     "output_type": "execute_result"
    }
   ],
   "source": [
    "print(\"Nº de filas y de columnas: \", cust_det.shape)\n",
    "\n",
    "print(\"\\nTipos de datos: \")\n",
    "print(cust_det.dtypes)\n",
    "\n",
    "print(\"\\nMuestra de las primeras 5 filas:\")\n",
    "cust_det.head()"
   ]
  },
  {
   "cell_type": "markdown",
   "id": "93e582a2",
   "metadata": {},
   "source": [
    "### Primera comprobación de datos nulos y filas duplicadas"
   ]
  },
  {
   "cell_type": "code",
   "execution_count": 98,
   "id": "f7a6e392",
   "metadata": {},
   "outputs": [
    {
     "name": "stdout",
     "output_type": "stream",
     "text": [
      "Valores nulos por columna: Income               0\n",
      "Kidhome              0\n",
      "Teenhome             0\n",
      "Dt_Customer          0\n",
      "NumWebVisitsMonth    0\n",
      "ID                   0\n",
      "Año                  0\n",
      "TotalKids            0\n",
      "recent_customer      0\n",
      "TotalHijos           0\n",
      "dtype: int64\n",
      "\n",
      "Nº de filas duplicadas: 0\n"
     ]
    }
   ],
   "source": [
    "print(\"Valores nulos por columna:\", cust_det.isna().sum())\n",
    "\n",
    "print(\"\\nNº de filas duplicadas:\", cust_det.duplicated().sum())"
   ]
  },
  {
   "cell_type": "markdown",
   "id": "2baab85b",
   "metadata": {},
   "source": [
    "### Primer resumen estadístico"
   ]
  },
  {
   "cell_type": "code",
   "execution_count": 21,
   "id": "6c10b7de",
   "metadata": {},
   "outputs": [
    {
     "name": "stdout",
     "output_type": "stream",
     "text": [
      "Resumen (básico) estadístico por columnas:\n"
     ]
    },
    {
     "data": {
      "text/html": [
       "<div>\n",
       "<style scoped>\n",
       "    .dataframe tbody tr th:only-of-type {\n",
       "        vertical-align: middle;\n",
       "    }\n",
       "\n",
       "    .dataframe tbody tr th {\n",
       "        vertical-align: top;\n",
       "    }\n",
       "\n",
       "    .dataframe thead th {\n",
       "        text-align: right;\n",
       "    }\n",
       "</style>\n",
       "<table border=\"1\" class=\"dataframe\">\n",
       "  <thead>\n",
       "    <tr style=\"text-align: right;\">\n",
       "      <th></th>\n",
       "      <th>count</th>\n",
       "      <th>mean</th>\n",
       "      <th>min</th>\n",
       "      <th>25%</th>\n",
       "      <th>50%</th>\n",
       "      <th>75%</th>\n",
       "      <th>max</th>\n",
       "      <th>std</th>\n",
       "    </tr>\n",
       "  </thead>\n",
       "  <tbody>\n",
       "    <tr>\n",
       "      <th>Unnamed: 0</th>\n",
       "      <td>43170.0</td>\n",
       "      <td>7916.022469</td>\n",
       "      <td>0.0</td>\n",
       "      <td>3597.0</td>\n",
       "      <td>7194.5</td>\n",
       "      <td>11705.75</td>\n",
       "      <td>20114.0</td>\n",
       "      <td>5228.248885</td>\n",
       "    </tr>\n",
       "    <tr>\n",
       "      <th>Income</th>\n",
       "      <td>43170.0</td>\n",
       "      <td>93227.389622</td>\n",
       "      <td>5841.0</td>\n",
       "      <td>49608.0</td>\n",
       "      <td>93009.5</td>\n",
       "      <td>136740.5</td>\n",
       "      <td>180802.0</td>\n",
       "      <td>50498.181989</td>\n",
       "    </tr>\n",
       "    <tr>\n",
       "      <th>Kidhome</th>\n",
       "      <td>43170.0</td>\n",
       "      <td>1.004749</td>\n",
       "      <td>0.0</td>\n",
       "      <td>0.0</td>\n",
       "      <td>1.0</td>\n",
       "      <td>2.0</td>\n",
       "      <td>2.0</td>\n",
       "      <td>0.815996</td>\n",
       "    </tr>\n",
       "    <tr>\n",
       "      <th>Teenhome</th>\n",
       "      <td>43170.0</td>\n",
       "      <td>0.998633</td>\n",
       "      <td>0.0</td>\n",
       "      <td>0.0</td>\n",
       "      <td>1.0</td>\n",
       "      <td>2.0</td>\n",
       "      <td>2.0</td>\n",
       "      <td>0.816008</td>\n",
       "    </tr>\n",
       "    <tr>\n",
       "      <th>Dt_Customer</th>\n",
       "      <td>43170</td>\n",
       "      <td>2013-05-11 22:09:47.407922176</td>\n",
       "      <td>2012-01-01 00:00:00</td>\n",
       "      <td>2012-07-16 00:00:00</td>\n",
       "      <td>2013-03-01 00:00:00</td>\n",
       "      <td>2014-03-28 00:00:00</td>\n",
       "      <td>2014-12-31 00:00:00</td>\n",
       "      <td>NaN</td>\n",
       "    </tr>\n",
       "    <tr>\n",
       "      <th>NumWebVisitsMonth</th>\n",
       "      <td>43170.0</td>\n",
       "      <td>16.59129</td>\n",
       "      <td>1.0</td>\n",
       "      <td>9.0</td>\n",
       "      <td>17.0</td>\n",
       "      <td>25.0</td>\n",
       "      <td>32.0</td>\n",
       "      <td>9.241769</td>\n",
       "    </tr>\n",
       "    <tr>\n",
       "      <th>Año</th>\n",
       "      <td>43170.0</td>\n",
       "      <td>2012.860435</td>\n",
       "      <td>2012.0</td>\n",
       "      <td>2012.0</td>\n",
       "      <td>2013.0</td>\n",
       "      <td>2014.0</td>\n",
       "      <td>2014.0</td>\n",
       "      <td>0.879132</td>\n",
       "    </tr>\n",
       "  </tbody>\n",
       "</table>\n",
       "</div>"
      ],
      "text/plain": [
       "                     count                           mean  \\\n",
       "Unnamed: 0         43170.0                    7916.022469   \n",
       "Income             43170.0                   93227.389622   \n",
       "Kidhome            43170.0                       1.004749   \n",
       "Teenhome           43170.0                       0.998633   \n",
       "Dt_Customer          43170  2013-05-11 22:09:47.407922176   \n",
       "NumWebVisitsMonth  43170.0                       16.59129   \n",
       "Año                43170.0                    2012.860435   \n",
       "\n",
       "                                   min                  25%  \\\n",
       "Unnamed: 0                         0.0               3597.0   \n",
       "Income                          5841.0              49608.0   \n",
       "Kidhome                            0.0                  0.0   \n",
       "Teenhome                           0.0                  0.0   \n",
       "Dt_Customer        2012-01-01 00:00:00  2012-07-16 00:00:00   \n",
       "NumWebVisitsMonth                  1.0                  9.0   \n",
       "Año                             2012.0               2012.0   \n",
       "\n",
       "                                   50%                  75%  \\\n",
       "Unnamed: 0                      7194.5             11705.75   \n",
       "Income                         93009.5             136740.5   \n",
       "Kidhome                            1.0                  2.0   \n",
       "Teenhome                           1.0                  2.0   \n",
       "Dt_Customer        2013-03-01 00:00:00  2014-03-28 00:00:00   \n",
       "NumWebVisitsMonth                 17.0                 25.0   \n",
       "Año                             2013.0               2014.0   \n",
       "\n",
       "                                   max           std  \n",
       "Unnamed: 0                     20114.0   5228.248885  \n",
       "Income                        180802.0  50498.181989  \n",
       "Kidhome                            2.0      0.815996  \n",
       "Teenhome                           2.0      0.816008  \n",
       "Dt_Customer        2014-12-31 00:00:00           NaN  \n",
       "NumWebVisitsMonth                 32.0      9.241769  \n",
       "Año                             2014.0      0.879132  "
      ]
     },
     "execution_count": 21,
     "metadata": {},
     "output_type": "execute_result"
    }
   ],
   "source": [
    "print(\"Resumen (básico) estadístico por columnas:\")\n",
    "cust_det.describe().T"
   ]
  },
  {
   "cell_type": "markdown",
   "id": "b7bf00ad",
   "metadata": {},
   "source": [
    "### Primera limpieza de datos"
   ]
  },
  {
   "cell_type": "code",
   "execution_count": null,
   "id": "01acd7d8",
   "metadata": {},
   "outputs": [],
   "source": [
    "# hemos revisado y no existen valores nulos en las columnas, por lo que el trabajo se simplifica mucho\n",
    "\n",
    "cust_det.drop(columns=['Unnamed: 0'], inplace=True) # la columna 'unnamed' no aporta nada por lo que podemos eliminarla"
   ]
  },
  {
   "cell_type": "markdown",
   "id": "b85bc54d",
   "metadata": {},
   "source": [
    "### Segundo análisis estadístico (más profundo)"
   ]
  },
  {
   "cell_type": "code",
   "execution_count": 43,
   "id": "6c968239",
   "metadata": {},
   "outputs": [
    {
     "name": "stdout",
     "output_type": "stream",
     "text": [
      "Análisis estadístico por columnas:\n"
     ]
    },
    {
     "data": {
      "text/html": [
       "<div>\n",
       "<style scoped>\n",
       "    .dataframe tbody tr th:only-of-type {\n",
       "        vertical-align: middle;\n",
       "    }\n",
       "\n",
       "    .dataframe tbody tr th {\n",
       "        vertical-align: top;\n",
       "    }\n",
       "\n",
       "    .dataframe thead th {\n",
       "        text-align: right;\n",
       "    }\n",
       "</style>\n",
       "<table border=\"1\" class=\"dataframe\">\n",
       "  <thead>\n",
       "    <tr style=\"text-align: right;\">\n",
       "      <th></th>\n",
       "      <th>count</th>\n",
       "      <th>unique</th>\n",
       "      <th>top</th>\n",
       "      <th>freq</th>\n",
       "      <th>mean</th>\n",
       "      <th>min</th>\n",
       "      <th>25%</th>\n",
       "      <th>50%</th>\n",
       "      <th>75%</th>\n",
       "      <th>max</th>\n",
       "      <th>std</th>\n",
       "    </tr>\n",
       "  </thead>\n",
       "  <tbody>\n",
       "    <tr>\n",
       "      <th>Income</th>\n",
       "      <td>43170.0</td>\n",
       "      <td>NaN</td>\n",
       "      <td>NaN</td>\n",
       "      <td>NaN</td>\n",
       "      <td>93227.389622</td>\n",
       "      <td>5841.0</td>\n",
       "      <td>49608.0</td>\n",
       "      <td>93009.5</td>\n",
       "      <td>136740.5</td>\n",
       "      <td>180802.0</td>\n",
       "      <td>50498.181989</td>\n",
       "    </tr>\n",
       "    <tr>\n",
       "      <th>Kidhome</th>\n",
       "      <td>43170.0</td>\n",
       "      <td>NaN</td>\n",
       "      <td>NaN</td>\n",
       "      <td>NaN</td>\n",
       "      <td>1.004749</td>\n",
       "      <td>0.0</td>\n",
       "      <td>0.0</td>\n",
       "      <td>1.0</td>\n",
       "      <td>2.0</td>\n",
       "      <td>2.0</td>\n",
       "      <td>0.815996</td>\n",
       "    </tr>\n",
       "    <tr>\n",
       "      <th>Teenhome</th>\n",
       "      <td>43170.0</td>\n",
       "      <td>NaN</td>\n",
       "      <td>NaN</td>\n",
       "      <td>NaN</td>\n",
       "      <td>0.998633</td>\n",
       "      <td>0.0</td>\n",
       "      <td>0.0</td>\n",
       "      <td>1.0</td>\n",
       "      <td>2.0</td>\n",
       "      <td>2.0</td>\n",
       "      <td>0.816008</td>\n",
       "    </tr>\n",
       "    <tr>\n",
       "      <th>Dt_Customer</th>\n",
       "      <td>43170</td>\n",
       "      <td>NaN</td>\n",
       "      <td>NaN</td>\n",
       "      <td>NaN</td>\n",
       "      <td>2013-05-11 22:09:47.407922176</td>\n",
       "      <td>2012-01-01 00:00:00</td>\n",
       "      <td>2012-07-16 00:00:00</td>\n",
       "      <td>2013-03-01 00:00:00</td>\n",
       "      <td>2014-03-28 00:00:00</td>\n",
       "      <td>2014-12-31 00:00:00</td>\n",
       "      <td>NaN</td>\n",
       "    </tr>\n",
       "    <tr>\n",
       "      <th>NumWebVisitsMonth</th>\n",
       "      <td>43170.0</td>\n",
       "      <td>NaN</td>\n",
       "      <td>NaN</td>\n",
       "      <td>NaN</td>\n",
       "      <td>16.59129</td>\n",
       "      <td>1.0</td>\n",
       "      <td>9.0</td>\n",
       "      <td>17.0</td>\n",
       "      <td>25.0</td>\n",
       "      <td>32.0</td>\n",
       "      <td>9.241769</td>\n",
       "    </tr>\n",
       "    <tr>\n",
       "      <th>ID</th>\n",
       "      <td>43170</td>\n",
       "      <td>43170</td>\n",
       "      <td>9727bc06-c11a-461a-a5bb-3d210467cc2a</td>\n",
       "      <td>1</td>\n",
       "      <td>NaN</td>\n",
       "      <td>NaN</td>\n",
       "      <td>NaN</td>\n",
       "      <td>NaN</td>\n",
       "      <td>NaN</td>\n",
       "      <td>NaN</td>\n",
       "      <td>NaN</td>\n",
       "    </tr>\n",
       "    <tr>\n",
       "      <th>Año</th>\n",
       "      <td>43170.0</td>\n",
       "      <td>NaN</td>\n",
       "      <td>NaN</td>\n",
       "      <td>NaN</td>\n",
       "      <td>2012.860435</td>\n",
       "      <td>2012.0</td>\n",
       "      <td>2012.0</td>\n",
       "      <td>2013.0</td>\n",
       "      <td>2014.0</td>\n",
       "      <td>2014.0</td>\n",
       "      <td>0.879132</td>\n",
       "    </tr>\n",
       "  </tbody>\n",
       "</table>\n",
       "</div>"
      ],
      "text/plain": [
       "                     count unique                                   top freq  \\\n",
       "Income             43170.0    NaN                                   NaN  NaN   \n",
       "Kidhome            43170.0    NaN                                   NaN  NaN   \n",
       "Teenhome           43170.0    NaN                                   NaN  NaN   \n",
       "Dt_Customer          43170    NaN                                   NaN  NaN   \n",
       "NumWebVisitsMonth  43170.0    NaN                                   NaN  NaN   \n",
       "ID                   43170  43170  9727bc06-c11a-461a-a5bb-3d210467cc2a    1   \n",
       "Año                43170.0    NaN                                   NaN  NaN   \n",
       "\n",
       "                                            mean                  min  \\\n",
       "Income                              93227.389622               5841.0   \n",
       "Kidhome                                 1.004749                  0.0   \n",
       "Teenhome                                0.998633                  0.0   \n",
       "Dt_Customer        2013-05-11 22:09:47.407922176  2012-01-01 00:00:00   \n",
       "NumWebVisitsMonth                       16.59129                  1.0   \n",
       "ID                                           NaN                  NaN   \n",
       "Año                                  2012.860435               2012.0   \n",
       "\n",
       "                                   25%                  50%  \\\n",
       "Income                         49608.0              93009.5   \n",
       "Kidhome                            0.0                  1.0   \n",
       "Teenhome                           0.0                  1.0   \n",
       "Dt_Customer        2012-07-16 00:00:00  2013-03-01 00:00:00   \n",
       "NumWebVisitsMonth                  9.0                 17.0   \n",
       "ID                                 NaN                  NaN   \n",
       "Año                             2012.0               2013.0   \n",
       "\n",
       "                                   75%                  max           std  \n",
       "Income                        136740.5             180802.0  50498.181989  \n",
       "Kidhome                            2.0                  2.0      0.815996  \n",
       "Teenhome                           2.0                  2.0      0.816008  \n",
       "Dt_Customer        2014-03-28 00:00:00  2014-12-31 00:00:00           NaN  \n",
       "NumWebVisitsMonth                 25.0                 32.0      9.241769  \n",
       "ID                                 NaN                  NaN           NaN  \n",
       "Año                             2014.0               2014.0      0.879132  "
      ]
     },
     "execution_count": 43,
     "metadata": {},
     "output_type": "execute_result"
    }
   ],
   "source": [
    "print(\"Análisis estadístico por columnas:\")\n",
    "cust_det.describe(include=\"all\").T"
   ]
  },
  {
   "cell_type": "code",
   "execution_count": 37,
   "id": "c8e78e20",
   "metadata": {},
   "outputs": [
    {
     "name": "stdout",
     "output_type": "stream",
     "text": [
      "Varianza:\n"
     ]
    },
    {
     "data": {
      "text/plain": [
       "Income               2.550066e+09\n",
       "Kidhome              6.658488e-01\n",
       "Teenhome             6.658695e-01\n",
       "NumWebVisitsMonth    8.541029e+01\n",
       "Año                  7.728723e-01\n",
       "dtype: float64"
      ]
     },
     "execution_count": 37,
     "metadata": {},
     "output_type": "execute_result"
    }
   ],
   "source": [
    "print(\"Varianza:\")\n",
    "cust_det.var(numeric_only=True)"
   ]
  },
  {
   "cell_type": "code",
   "execution_count": 40,
   "id": "be6c1d6f",
   "metadata": {},
   "outputs": [
    {
     "name": "stdout",
     "output_type": "stream",
     "text": [
      "Desviación estándar:\n"
     ]
    },
    {
     "data": {
      "text/plain": [
       "Income               50498.181989\n",
       "Kidhome                  0.815996\n",
       "Teenhome                 0.816008\n",
       "NumWebVisitsMonth        9.241769\n",
       "Año                      0.879132\n",
       "dtype: float64"
      ]
     },
     "execution_count": 40,
     "metadata": {},
     "output_type": "execute_result"
    }
   ],
   "source": [
    "print(\"Desviación estándar:\")\n",
    "cust_det.std(numeric_only=True)"
   ]
  },
  {
   "cell_type": "code",
   "execution_count": 41,
   "id": "f0929432",
   "metadata": {},
   "outputs": [
    {
     "name": "stdout",
     "output_type": "stream",
     "text": [
      "Media:\n"
     ]
    },
    {
     "data": {
      "text/plain": [
       "Income               93009.5\n",
       "Kidhome                  1.0\n",
       "Teenhome                 1.0\n",
       "NumWebVisitsMonth       17.0\n",
       "Año                   2013.0\n",
       "dtype: float64"
      ]
     },
     "execution_count": 41,
     "metadata": {},
     "output_type": "execute_result"
    }
   ],
   "source": [
    "print(\"Media:\")\n",
    "cust_det.median(numeric_only=True)"
   ]
  },
  {
   "cell_type": "code",
   "execution_count": 42,
   "id": "728d0356",
   "metadata": {},
   "outputs": [
    {
     "name": "stdout",
     "output_type": "stream",
     "text": [
      "Moda:\n"
     ]
    },
    {
     "data": {
      "text/plain": [
       "Income               40655.0\n",
       "Kidhome                  2.0\n",
       "Teenhome                 1.0\n",
       "NumWebVisitsMonth       14.0\n",
       "Año                   2012.0\n",
       "Name: 0, dtype: float64"
      ]
     },
     "execution_count": 42,
     "metadata": {},
     "output_type": "execute_result"
    }
   ],
   "source": [
    "print(\"Moda:\")\n",
    "cust_det.mode(numeric_only=True).iloc[0]"
   ]
  },
  {
   "cell_type": "markdown",
   "id": "f93c852e",
   "metadata": {},
   "source": [
    "### Gráficas"
   ]
  },
  {
   "cell_type": "code",
   "execution_count": 74,
   "id": "36b235b2",
   "metadata": {},
   "outputs": [
    {
     "data": {
      "image/png": "[encoded data removed]",
      "text/plain": [
       "<Figure size 640x480 with 1 Axes>"
      ]
     },
     "metadata": {},
     "output_type": "display_data"
    }
   ],
   "source": [
    "sns.boxplot(x=cust_det[\"Income\"], color=\"lightblue\")\n",
    "plt.title(\"Distribución de ingresos anuales (boxplot)\")\n",
    "plt.xlabel(\"Ingreso anual\")\n",
    "plt.show()"
   ]
  },
  {
   "cell_type": "markdown",
   "id": "89e061a5",
   "metadata": {},
   "source": [
    "En este boxplot se observa como la mayoría de ingresos anuales de los clientes oscila entre los 50.000 y 137.000 euros, con algunas excepciones y algunos válores máximos cercanos a 180.000 euros, y unos válores mínimos cercanos a los 10.000 euros"
   ]
  },
  {
   "cell_type": "code",
   "execution_count": 95,
   "id": "12d35daa",
   "metadata": {},
   "outputs": [
    {
     "data": {
      "image/png": "[encoded data removed]",
      "text/plain": [
       "<Figure size 640x480 with 1 Axes>"
      ]
     },
     "metadata": {},
     "output_type": "display_data"
    }
   ],
   "source": [
    "sns.histplot(cust_det[\"NumWebVisitsMonth\"], bins=15, color=\"lightblue\")\n",
    "plt.title(\"Número de visitas al sitio web por mes\")\n",
    "plt.xlabel(\"Visitas web mensuales\")\n",
    "plt.ylabel(\"Cantidad de clientes\")\n",
    "plt.show()"
   ]
  },
  {
   "cell_type": "markdown",
   "id": "8e45c0f1",
   "metadata": {},
   "source": [
    "Es curioso observar como la mayoría de clientes hacen: o muy pocas visitas a la página web, o muchas visitas (en torno a las 30 visitas)"
   ]
  },
  {
   "cell_type": "code",
   "execution_count": 96,
   "id": "637027f1",
   "metadata": {},
   "outputs": [
    {
     "data": {
      "image/png": "[encoded data removed]",
      "text/plain": [
       "<Figure size 640x480 with 1 Axes>"
      ]
     },
     "metadata": {},
     "output_type": "display_data"
    }
   ],
   "source": [
    "cust_det[\"TotalHijos\"] = cust_det[\"Kidhome\"] + cust_det[\"Teenhome\"]\n",
    "sns.boxplot(x=cust_det[\"TotalHijos\"], color=\"lightblue\")\n",
    "plt.title(\"Número total de hijos por hogar (boxplot)\")\n",
    "plt.xlabel(\"Total hijos\")\n",
    "plt.show()"
   ]
  },
  {
   "cell_type": "markdown",
   "id": "5e102708",
   "metadata": {},
   "source": [
    "La mayoría de clientes tienen entre 1 y 3 hijos, siendo lo normal que tengan 2. Hay excasos clientes con 0 o 4 hijos"
   ]
  },
  {
   "cell_type": "code",
   "execution_count": null,
   "id": "8c52b2a6",
   "metadata": {},
   "outputs": [
    {
     "data": {
      "image/png": "[encoded data removed]",
      "text/plain": [
       "<Figure size 1000x250 with 1 Axes>"
      ]
     },
     "metadata": {},
     "output_type": "display_data"
    }
   ],
   "source": [
    "clientes_por_mes = cust_det.groupby(cust_det[\"Dt_Customer\"].dt.to_period(\"M\")).size()\n",
    "\n",
    "clientes_por_mes.index = clientes_por_mes.index.to_timestamp()\n",
    "\n",
    "plt.figure(figsize=(10,2.5))\n",
    "clientes_por_mes.plot(kind=\"line\", marker=\"o\")\n",
    "plt.title(\"Evolución de altas de clientes por mes\")\n",
    "plt.xlabel(\"Fecha\")\n",
    "plt.ylabel(\"Número de clientes\")\n",
    "plt.grid(True)\n",
    "plt.show()"
   ]
  },
  {
   "cell_type": "markdown",
   "id": "8ff1f5c2",
   "metadata": {},
   "source": [
    "Es curioso como durante el año 2012 hubo un gran número de altas de clientes (cercanas a las 1.600 altas al mes), sin embargo un año depués este número baja mucho (hasta las 700 altas al mes), para en 2014 remontar un poco y situarse en las 1.100 altas de clientes al mes"
   ]
  },
  {
   "cell_type": "markdown",
   "id": "0f46f97e",
   "metadata": {},
   "source": [
    "### Ejemplos de filtrados, agrupaciones y creación de columnas"
   ]
  },
  {
   "cell_type": "code",
   "execution_count": 64,
   "id": "e95afd35",
   "metadata": {},
   "outputs": [],
   "source": [
    "clientes_altos_ingresos = cust_det[cust_det[\"Income\"] > 150000]  # clientes con ingresos altos\n",
    "\n",
    "clientes_jovenes = cust_det[cust_det[\"Dt_Customer\"].dt.year > 2015] # clientes que entraron después de 2015"
   ]
  },
  {
   "cell_type": "code",
   "execution_count": 90,
   "id": "ac1745fe",
   "metadata": {},
   "outputs": [],
   "source": [
    "ingreso_promedio_año = cust_det.groupby(\"Año\")[\"Income\"].mean().sort_values(ascending=False) # media de ingresos por año de alta\n",
    "\n",
    "visitas_por_hijos = cust_det.groupby([\"Kidhome\", \"Teenhome\"])[\"NumWebVisitsMonth\"].mean() # promedio de visitas web por número de hijos"
   ]
  },
  {
   "cell_type": "code",
   "execution_count": null,
   "id": "2484c642",
   "metadata": {},
   "outputs": [],
   "source": [
    "cust_det[\"TotalKids\"] = cust_det[\"Kidhome\"] + cust_det[\"Teenhome\"] # nº total de hijos\n",
    "\n",
    "cust_det[\"recent_customer\"] = cust_det[\"Dt_Customer\"].apply(lambda x: 1 if x.year > 2017 else 0) # aviso de alta reciente\n"
   ]
  },
  {
   "cell_type": "code",
   "execution_count": null,
   "id": "a69f018e",
   "metadata": {},
   "outputs": [],
   "source": [
    "clientes_activos = cust_det.query(\"NumWebVisitsMonth > 20 & TotalKids > 1\") # clientes con muchas visitas a la web y con más de un hijo"
   ]
  },
  {
   "cell_type": "code",
   "execution_count": 99,
   "id": "5a72b35d",
   "metadata": {},
   "outputs": [
    {
     "name": "stdout",
     "output_type": "stream",
     "text": [
      "Ingreso promedio por año:\n",
      " Año\n",
      "2014    93706.47\n",
      "2012    93087.21\n",
      "2013    92788.95\n",
      "Name: Income, dtype: float64\n",
      "\n",
      "Promedio de visitas web por número de hijos:\n",
      " Kidhome  Teenhome\n",
      "0        0           16.54\n",
      "         1           16.73\n",
      "         2           16.80\n",
      "1        0           16.47\n",
      "         1           16.74\n",
      "Name: NumWebVisitsMonth, dtype: float64\n",
      "\n",
      "Clientes con ingresos altos:\n",
      " (7516, 7)\n",
      "\n",
      "Clientes activos:\n",
      " (10963, 9)\n"
     ]
    }
   ],
   "source": [
    "print(\"Ingreso promedio por año:\\n\", ingreso_promedio_año.round(2))\n",
    "\n",
    "print(\"\\nPromedio de visitas web por número de hijos:\\n\", visitas_por_hijos.head().round(2))\n",
    "\n",
    "print(\"\\nClientes con ingresos altos:\\n\", clientes_altos_ingresos.shape)\n",
    "\n",
    "print(\"\\nClientes activos:\\n\", clientes_activos.shape)"
   ]
  },
  {
   "cell_type": "markdown",
   "id": "63b5b4c7",
   "metadata": {},
   "source": [
    "### Visualización del DataFrame tras las limpiezas y optimizaciones"
   ]
  },
  {
   "cell_type": "code",
   "execution_count": 87,
   "id": "0903936c",
   "metadata": {},
   "outputs": [
    {
     "data": {
      "text/html": [
       "<div>\n",
       "<style scoped>\n",
       "    .dataframe tbody tr th:only-of-type {\n",
       "        vertical-align: middle;\n",
       "    }\n",
       "\n",
       "    .dataframe tbody tr th {\n",
       "        vertical-align: top;\n",
       "    }\n",
       "\n",
       "    .dataframe thead th {\n",
       "        text-align: right;\n",
       "    }\n",
       "</style>\n",
       "<table border=\"1\" class=\"dataframe\">\n",
       "  <thead>\n",
       "    <tr style=\"text-align: right;\">\n",
       "      <th></th>\n",
       "      <th>Income</th>\n",
       "      <th>Kidhome</th>\n",
       "      <th>Teenhome</th>\n",
       "      <th>Dt_Customer</th>\n",
       "      <th>NumWebVisitsMonth</th>\n",
       "      <th>ID</th>\n",
       "      <th>Año</th>\n",
       "      <th>TotalKids</th>\n",
       "      <th>recent_customer</th>\n",
       "      <th>TotalHijos</th>\n",
       "    </tr>\n",
       "  </thead>\n",
       "  <tbody>\n",
       "    <tr>\n",
       "      <th>0</th>\n",
       "      <td>161770</td>\n",
       "      <td>1</td>\n",
       "      <td>0</td>\n",
       "      <td>2012-04-04</td>\n",
       "      <td>29</td>\n",
       "      <td>089b39d8-e4d0-461b-87d4-814d71e0e079</td>\n",
       "      <td>2012</td>\n",
       "      <td>1</td>\n",
       "      <td>0</td>\n",
       "      <td>1</td>\n",
       "    </tr>\n",
       "    <tr>\n",
       "      <th>1</th>\n",
       "      <td>85477</td>\n",
       "      <td>1</td>\n",
       "      <td>1</td>\n",
       "      <td>2012-12-30</td>\n",
       "      <td>7</td>\n",
       "      <td>e9d37224-cb6f-4942-98d7-46672963d097</td>\n",
       "      <td>2012</td>\n",
       "      <td>2</td>\n",
       "      <td>0</td>\n",
       "      <td>2</td>\n",
       "    </tr>\n",
       "    <tr>\n",
       "      <th>2</th>\n",
       "      <td>147233</td>\n",
       "      <td>1</td>\n",
       "      <td>1</td>\n",
       "      <td>2012-02-02</td>\n",
       "      <td>5</td>\n",
       "      <td>3f9f49b5-e410-4948-bf6e-f9244f04918b</td>\n",
       "      <td>2012</td>\n",
       "      <td>2</td>\n",
       "      <td>0</td>\n",
       "      <td>2</td>\n",
       "    </tr>\n",
       "    <tr>\n",
       "      <th>3</th>\n",
       "      <td>121393</td>\n",
       "      <td>1</td>\n",
       "      <td>2</td>\n",
       "      <td>2012-12-21</td>\n",
       "      <td>29</td>\n",
       "      <td>9991fafb-4447-451a-8be2-b0df6098d13e</td>\n",
       "      <td>2012</td>\n",
       "      <td>3</td>\n",
       "      <td>0</td>\n",
       "      <td>3</td>\n",
       "    </tr>\n",
       "    <tr>\n",
       "      <th>4</th>\n",
       "      <td>63164</td>\n",
       "      <td>1</td>\n",
       "      <td>2</td>\n",
       "      <td>2012-06-20</td>\n",
       "      <td>20</td>\n",
       "      <td>eca60b76-70b6-4077-80ba-bc52e8ebb0eb</td>\n",
       "      <td>2012</td>\n",
       "      <td>3</td>\n",
       "      <td>0</td>\n",
       "      <td>3</td>\n",
       "    </tr>\n",
       "    <tr>\n",
       "      <th>...</th>\n",
       "      <td>...</td>\n",
       "      <td>...</td>\n",
       "      <td>...</td>\n",
       "      <td>...</td>\n",
       "      <td>...</td>\n",
       "      <td>...</td>\n",
       "      <td>...</td>\n",
       "      <td>...</td>\n",
       "      <td>...</td>\n",
       "      <td>...</td>\n",
       "    </tr>\n",
       "    <tr>\n",
       "      <th>43165</th>\n",
       "      <td>156980</td>\n",
       "      <td>1</td>\n",
       "      <td>2</td>\n",
       "      <td>2014-05-17</td>\n",
       "      <td>7</td>\n",
       "      <td>5f432048-d515-4bb5-9c94-62db451f88d4</td>\n",
       "      <td>2014</td>\n",
       "      <td>3</td>\n",
       "      <td>0</td>\n",
       "      <td>3</td>\n",
       "    </tr>\n",
       "    <tr>\n",
       "      <th>43166</th>\n",
       "      <td>139820</td>\n",
       "      <td>0</td>\n",
       "      <td>0</td>\n",
       "      <td>2014-09-29</td>\n",
       "      <td>1</td>\n",
       "      <td>993bbbd6-4dbc-4a40-a408-f91f8462bee6</td>\n",
       "      <td>2014</td>\n",
       "      <td>0</td>\n",
       "      <td>0</td>\n",
       "      <td>0</td>\n",
       "    </tr>\n",
       "    <tr>\n",
       "      <th>43167</th>\n",
       "      <td>78470</td>\n",
       "      <td>2</td>\n",
       "      <td>2</td>\n",
       "      <td>2014-10-28</td>\n",
       "      <td>12</td>\n",
       "      <td>d6271666-319d-42c8-a741-cb22bf2c2093</td>\n",
       "      <td>2014</td>\n",
       "      <td>4</td>\n",
       "      <td>0</td>\n",
       "      <td>4</td>\n",
       "    </tr>\n",
       "    <tr>\n",
       "      <th>43168</th>\n",
       "      <td>144218</td>\n",
       "      <td>0</td>\n",
       "      <td>1</td>\n",
       "      <td>2014-07-01</td>\n",
       "      <td>9</td>\n",
       "      <td>f67fbfa8-6573-414d-a805-b26a2f1b1ceb</td>\n",
       "      <td>2014</td>\n",
       "      <td>1</td>\n",
       "      <td>0</td>\n",
       "      <td>1</td>\n",
       "    </tr>\n",
       "    <tr>\n",
       "      <th>43169</th>\n",
       "      <td>115155</td>\n",
       "      <td>0</td>\n",
       "      <td>2</td>\n",
       "      <td>2014-12-25</td>\n",
       "      <td>7</td>\n",
       "      <td>9727bc06-c11a-461a-a5bb-3d210467cc2a</td>\n",
       "      <td>2014</td>\n",
       "      <td>2</td>\n",
       "      <td>0</td>\n",
       "      <td>2</td>\n",
       "    </tr>\n",
       "  </tbody>\n",
       "</table>\n",
       "<p>43170 rows × 10 columns</p>\n",
       "</div>"
      ],
      "text/plain": [
       "       Income  Kidhome  Teenhome Dt_Customer  NumWebVisitsMonth  \\\n",
       "0      161770        1         0  2012-04-04                 29   \n",
       "1       85477        1         1  2012-12-30                  7   \n",
       "2      147233        1         1  2012-02-02                  5   \n",
       "3      121393        1         2  2012-12-21                 29   \n",
       "4       63164        1         2  2012-06-20                 20   \n",
       "...       ...      ...       ...         ...                ...   \n",
       "43165  156980        1         2  2014-05-17                  7   \n",
       "43166  139820        0         0  2014-09-29                  1   \n",
       "43167   78470        2         2  2014-10-28                 12   \n",
       "43168  144218        0         1  2014-07-01                  9   \n",
       "43169  115155        0         2  2014-12-25                  7   \n",
       "\n",
       "                                         ID   Año  TotalKids  recent_customer  \\\n",
       "0      089b39d8-e4d0-461b-87d4-814d71e0e079  2012          1                0   \n",
       "1      e9d37224-cb6f-4942-98d7-46672963d097  2012          2                0   \n",
       "2      3f9f49b5-e410-4948-bf6e-f9244f04918b  2012          2                0   \n",
       "3      9991fafb-4447-451a-8be2-b0df6098d13e  2012          3                0   \n",
       "4      eca60b76-70b6-4077-80ba-bc52e8ebb0eb  2012          3                0   \n",
       "...                                     ...   ...        ...              ...   \n",
       "43165  5f432048-d515-4bb5-9c94-62db451f88d4  2014          3                0   \n",
       "43166  993bbbd6-4dbc-4a40-a408-f91f8462bee6  2014          0                0   \n",
       "43167  d6271666-319d-42c8-a741-cb22bf2c2093  2014          4                0   \n",
       "43168  f67fbfa8-6573-414d-a805-b26a2f1b1ceb  2014          1                0   \n",
       "43169  9727bc06-c11a-461a-a5bb-3d210467cc2a  2014          2                0   \n",
       "\n",
       "       TotalHijos  \n",
       "0               1  \n",
       "1               2  \n",
       "2               2  \n",
       "3               3  \n",
       "4               3  \n",
       "...           ...  \n",
       "43165           3  \n",
       "43166           0  \n",
       "43167           4  \n",
       "43168           1  \n",
       "43169           2  \n",
       "\n",
       "[43170 rows x 10 columns]"
      ]
     },
     "execution_count": 87,
     "metadata": {},
     "output_type": "execute_result"
    }
   ],
   "source": [
    "cust_det"
   ]
  },
  {
   "cell_type": "markdown",
   "id": "a43bc766",
   "metadata": {},
   "source": [
    "### CSV con los datos actualizados del DataFrame limpio y optimizado"
   ]
  },
  {
   "cell_type": "code",
   "execution_count": null,
   "id": "b0007388",
   "metadata": {},
   "outputs": [],
   "source": [
    "cust_det.to_csv(\"cust_det_clean.csv\", index=False) # paso los datos a un archivo csv para poder trabajar con ellos en otro archivo"
   ]
  }
 ],
 "metadata": {
  "kernelspec": {
   "display_name": "Python 3",
   "language": "python",
   "name": "python3"
  },
  "language_info": {
   "codemirror_mode": {
    "name": "ipython",
    "version": 3
   },
   "file_extension": ".py",
   "mimetype": "text/x-python",
   "name": "python",
   "nbconvert_exporter": "python",
   "pygments_lexer": "ipython3",
   "version": "3.13.1"
  }
 },
 "nbformat": 4,
 "nbformat_minor": 5
}
